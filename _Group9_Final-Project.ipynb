{
 "cells": [
  {
   "cell_type": "markdown",
   "id": "7288d78a",
   "metadata": {},
   "source": [
    "CSCI2000U final project group 9:\n",
    "    Paul Hrunda, Garrett Kawabata, Anthony Liscio"
   ]
  },
  {
   "cell_type": "code",
   "execution_count": 411,
   "id": "5bd1a8dd",
   "metadata": {},
   "outputs": [],
   "source": [
    "import csv\n",
    "import numpy as np\n",
    "import pandas as pd\n",
    "import matplotlib.pyplot as plt\n",
    "import seaborn as sns\n",
    "\n",
    "def get_data_csv():\n",
    "    collection = []\n",
    "    with open('imdb_top_1000.csv', 'r') as f:\n",
    "        for line in csv.DictReader(f):\n",
    "            collection.append(line)\n",
    "        return collection\n",
    "        \n",
    "# the data    \n",
    "data = get_data_csv()\n",
    "\n",
    "data_df = pd.DataFrame(data)"
   ]
  },
  {
   "cell_type": "markdown",
   "id": "ac65287b",
   "metadata": {},
   "source": [
    "# **1.**\n",
    "**What is the average IMDB rating per genre? What are the top three?**"
   ]
  },
  {
   "cell_type": "code",
   "execution_count": 412,
   "id": "85436de2",
   "metadata": {},
   "outputs": [
    {
     "name": "stdout",
     "output_type": "stream",
     "text": [
      "There are 14 different game genres:\n",
      "['Drama', 'Crime', 'Action', 'Biography', 'Western', 'Comedy', 'Adventure', 'Animation', 'Horror', 'Mystery', 'Film-Noir', 'Fantasy', 'Family', 'Thriller']\n"
     ]
    }
   ],
   "source": [
    "# the different genres\n",
    "total_genres = []\n",
    "genres = []\n",
    "\n",
    "def fill_list_total(list_to_fill, key):   \n",
    "    for i in range(len(data)):\n",
    "        if data[i][key]:\n",
    "            list_to_fill.append(data[i][key])\n",
    "\n",
    "def fill_unique(list_to_fill, total_list):\n",
    "    for i in total_list:\n",
    "        if i not in list_to_fill:\n",
    "            list_to_fill.append(i)\n",
    "\n",
    "fill_list_total(total_genres, \"Genre\")\n",
    "total_genres = [line.split(',')[0] for line in total_genres] # many movies have more than one genre which are seperated\n",
    "                                                             # by comma, so this just removes the commas and splits the data into their own elements\n",
    "fill_unique(genres, total_genres)\n",
    "\n",
    "print(\"There are \"+str(len(genres))+\" different game genres:\")\n",
    "print(genres)"
   ]
  },
  {
   "cell_type": "code",
   "execution_count": 413,
   "id": "4574b4ed",
   "metadata": {},
   "outputs": [
    {
     "name": "stdout",
     "output_type": "stream",
     "text": [
      "Average IMDB ratings (by genre):\n",
      "Drama       7.96\n",
      "Crime       7.96\n",
      "Action      7.95\n",
      "Biography   7.94\n",
      "Western     8.00\n",
      "Comedy      7.90\n",
      "Adventure   7.95\n",
      "Animation   7.93\n",
      "Horror      7.89\n",
      "Mystery     7.97\n",
      "Film-Noir   7.99\n",
      "Fantasy     7.93\n",
      "Family      7.91\n",
      "Thriller    7.91\n",
      "dtype: float64\n",
      "\n",
      "Top 3 IMDB rating (by genre):\n",
      "Western     8.00\n",
      "Film-Noir   7.99\n",
      "Mystery     7.97\n",
      "dtype: float64\n"
     ]
    }
   ],
   "source": [
    "def get_imdb_by_genre(genre):\n",
    "    return data_df['IMDB_Rating'][data_df['Genre'].str.contains(genre, regex=False)]\n",
    "\n",
    "imdb_by_genre = pd.DataFrame(index=range(len(data_df)),columns=range(len(genres)))\n",
    "imdb_by_genre.columns = genres\n",
    "\n",
    "for i in genres:\n",
    "    imdb_by_genre[i] = get_imdb_by_genre(i)\n",
    "    imdb_by_genre[i] = imdb_by_genre[i].astype(float)\n",
    "\n",
    "avg_imdb_by_genre = imdb_by_genre.mean(axis = 0, skipna = True)\n",
    "\n",
    "print('Average IMDB ratings (by genre):')\n",
    "print(avg_imdb_by_genre.round(3))\n",
    "print('\\nTop 3 IMDB rating (by genre):\\n'+str(avg_imdb_by_genre.sort_values(ascending = False).round(3)[:3]))"
   ]
  },
  {
   "cell_type": "markdown",
   "id": "c06f3b1d",
   "metadata": {},
   "source": [
    "# **2.**\n",
    "**Does the runtime correlate to the IMDB rating?**"
   ]
  },
  {
   "cell_type": "code",
   "execution_count": 414,
   "id": "02833ac2",
   "metadata": {},
   "outputs": [
    {
     "name": "stderr",
     "output_type": "stream",
     "text": [
      "/tmp/ipykernel_44/3534495771.py:2: SettingWithCopyWarning: \n",
      "A value is trying to be set on a copy of a slice from a DataFrame.\n",
      "Try using .loc[row_indexer,col_indexer] = value instead\n",
      "\n",
      "See the caveats in the documentation: https://pandas.pydata.org/pandas-docs/stable/user_guide/indexing.html#returning-a-view-versus-a-copy\n",
      "  df_rt_imdb['Runtime'] = df_rt_imdb['Runtime'].map(lambda x: x.rstrip(' min'))\n",
      "/tmp/ipykernel_44/3534495771.py:3: SettingWithCopyWarning: \n",
      "A value is trying to be set on a copy of a slice from a DataFrame.\n",
      "Try using .loc[row_indexer,col_indexer] = value instead\n",
      "\n",
      "See the caveats in the documentation: https://pandas.pydata.org/pandas-docs/stable/user_guide/indexing.html#returning-a-view-versus-a-copy\n",
      "  df_rt_imdb['Runtime'] = df_rt_imdb['Runtime'].astype(int)\n",
      "/tmp/ipykernel_44/3534495771.py:4: SettingWithCopyWarning: \n",
      "A value is trying to be set on a copy of a slice from a DataFrame.\n",
      "Try using .loc[row_indexer,col_indexer] = value instead\n",
      "\n",
      "See the caveats in the documentation: https://pandas.pydata.org/pandas-docs/stable/user_guide/indexing.html#returning-a-view-versus-a-copy\n",
      "  df_rt_imdb['IMDB_Rating'] = df_rt_imdb['IMDB_Rating'].astype(float)\n"
     ]
    },
    {
     "data": {
      "text/html": [
       "<div>\n",
       "<style scoped>\n",
       "    .dataframe tbody tr th:only-of-type {\n",
       "        vertical-align: middle;\n",
       "    }\n",
       "\n",
       "    .dataframe tbody tr th {\n",
       "        vertical-align: top;\n",
       "    }\n",
       "\n",
       "    .dataframe thead th {\n",
       "        text-align: right;\n",
       "    }\n",
       "</style>\n",
       "<table border=\"1\" class=\"dataframe\">\n",
       "  <thead>\n",
       "    <tr style=\"text-align: right;\">\n",
       "      <th></th>\n",
       "      <th>Runtime</th>\n",
       "      <th>IMDB_Rating</th>\n",
       "    </tr>\n",
       "  </thead>\n",
       "  <tbody>\n",
       "    <tr>\n",
       "      <th>Runtime</th>\n",
       "      <td>1.00</td>\n",
       "      <td>0.24</td>\n",
       "    </tr>\n",
       "    <tr>\n",
       "      <th>IMDB_Rating</th>\n",
       "      <td>0.24</td>\n",
       "      <td>1.00</td>\n",
       "    </tr>\n",
       "  </tbody>\n",
       "</table>\n",
       "</div>"
      ],
      "text/plain": [
       "             Runtime  IMDB_Rating\n",
       "Runtime         1.00         0.24\n",
       "IMDB_Rating     0.24         1.00"
      ]
     },
     "execution_count": 414,
     "metadata": {},
     "output_type": "execute_result"
    }
   ],
   "source": [
    "df_rt_imdb = data_df[['Runtime', 'IMDB_Rating']]\n",
    "df_rt_imdb['Runtime'] = df_rt_imdb['Runtime'].map(lambda x: x.rstrip(' min'))\n",
    "df_rt_imdb['Runtime'] = df_rt_imdb['Runtime'].astype(int)\n",
    "df_rt_imdb['IMDB_Rating'] = df_rt_imdb['IMDB_Rating'].astype(float)\n",
    "correlation = df_rt_imdb.corr()\n",
    "correlation"
   ]
  },
  {
   "cell_type": "code",
   "execution_count": 415,
   "id": "3ca3d1dc",
   "metadata": {},
   "outputs": [
    {
     "data": {
      "image/png": "[encoded data removed]",
      "text/plain": [
       "<Figure size 432x288 with 2 Axes>"
      ]
     },
     "metadata": {
      "needs_background": "light"
     },
     "output_type": "display_data"
    }
   ],
   "source": [
    "sns.heatmap(correlation);"
   ]
  },
  {
   "cell_type": "markdown",
   "id": "463bb3d9",
   "metadata": {},
   "source": [
    "*The chart and this visualization show that there is no real correlation between runtime and IMBD rating since the correlation coefficient is 0.24 (and in the visualization it is black, indicating the correlation coefficient is around 0.3).  This also makes sense later on as we see that runtime of a movie does not neccessarily mean it will recieve a good or bad rating.*"
   ]
  },
  {
   "cell_type": "markdown",
   "id": "9f63f4ac",
   "metadata": {},
   "source": [
    "# **3.**\n",
    "**Do any directors appear more than once? If so who appears most often?**"
   ]
  },
  {
   "cell_type": "code",
   "execution_count": 416,
   "id": "d9178a53",
   "metadata": {},
   "outputs": [
    {
     "name": "stdout",
     "output_type": "stream",
     "text": [
      "There are  548  different directors\n"
     ]
    }
   ],
   "source": [
    "director_uni = data_df['Director'].nunique()\n",
    "print(\"There are \", director_uni, \" different directors\")"
   ]
  },
  {
   "cell_type": "code",
   "execution_count": 417,
   "id": "1ecb073b",
   "metadata": {},
   "outputs": [],
   "source": [
    "data_df['Movie_Count'] = 1\n",
    "\n",
    "director_stats = data_df[['Director', 'Movie_Count']].groupby(['Director']).sum()\n",
    "data_df['IMDB_Rating'] = data_df['IMDB_Rating'].astype(float)\n",
    "director_stats['IMDB_Rating'] = data_df[['Director','IMDB_Rating']].groupby(['Director']).mean()\n",
    "director_stats = director_stats.rename(columns={\"IMDB_Rating\" : \"avg IMDB_Rating\"})\n",
    "\n",
    "data_df['No_of_Votes'] = data_df['No_of_Votes'].astype(float)\n",
    "director_stats['No_of_Votes'] = data_df[['Director','No_of_Votes']].groupby(['Director']).mean()\n",
    "\n",
    "director_stats = director_stats.rename(columns={\"No_of_Votes\" : \"avg No_of_Votes\"})\n",
    "pd.options.display.float_format = \"{:,.2f}\".format"
   ]
  },
  {
   "cell_type": "code",
   "execution_count": 418,
   "id": "1bd67d88",
   "metadata": {},
   "outputs": [
    {
     "name": "stdout",
     "output_type": "stream",
     "text": [
      "Top 10 Directors by Number of Movies:\n"
     ]
    },
    {
     "data": {
      "text/html": [
       "<div>\n",
       "<style scoped>\n",
       "    .dataframe tbody tr th:only-of-type {\n",
       "        vertical-align: middle;\n",
       "    }\n",
       "\n",
       "    .dataframe tbody tr th {\n",
       "        vertical-align: top;\n",
       "    }\n",
       "\n",
       "    .dataframe thead th {\n",
       "        text-align: right;\n",
       "    }\n",
       "</style>\n",
       "<table border=\"1\" class=\"dataframe\">\n",
       "  <thead>\n",
       "    <tr style=\"text-align: right;\">\n",
       "      <th></th>\n",
       "      <th>Movie_Count</th>\n",
       "      <th>avg IMDB_Rating</th>\n",
       "      <th>avg No_of_Votes</th>\n",
       "    </tr>\n",
       "    <tr>\n",
       "      <th>Director</th>\n",
       "      <th></th>\n",
       "      <th></th>\n",
       "      <th></th>\n",
       "    </tr>\n",
       "  </thead>\n",
       "  <tbody>\n",
       "    <tr>\n",
       "      <th>Alfred Hitchcock</th>\n",
       "      <td>14</td>\n",
       "      <td>8.01</td>\n",
       "      <td>192,612.64</td>\n",
       "    </tr>\n",
       "    <tr>\n",
       "      <th>Steven Spielberg</th>\n",
       "      <td>13</td>\n",
       "      <td>8.03</td>\n",
       "      <td>601,320.46</td>\n",
       "    </tr>\n",
       "    <tr>\n",
       "      <th>Hayao Miyazaki</th>\n",
       "      <td>11</td>\n",
       "      <td>8.02</td>\n",
       "      <td>213,519.82</td>\n",
       "    </tr>\n",
       "    <tr>\n",
       "      <th>Martin Scorsese</th>\n",
       "      <td>10</td>\n",
       "      <td>8.17</td>\n",
       "      <td>651,353.00</td>\n",
       "    </tr>\n",
       "    <tr>\n",
       "      <th>Akira Kurosawa</th>\n",
       "      <td>10</td>\n",
       "      <td>8.22</td>\n",
       "      <td>94,159.90</td>\n",
       "    </tr>\n",
       "    <tr>\n",
       "      <th>Stanley Kubrick</th>\n",
       "      <td>9</td>\n",
       "      <td>8.23</td>\n",
       "      <td>435,472.67</td>\n",
       "    </tr>\n",
       "    <tr>\n",
       "      <th>Woody Allen</th>\n",
       "      <td>9</td>\n",
       "      <td>7.79</td>\n",
       "      <td>135,834.22</td>\n",
       "    </tr>\n",
       "    <tr>\n",
       "      <th>Billy Wilder</th>\n",
       "      <td>9</td>\n",
       "      <td>8.14</td>\n",
       "      <td>115,322.56</td>\n",
       "    </tr>\n",
       "    <tr>\n",
       "      <th>Quentin Tarantino</th>\n",
       "      <td>8</td>\n",
       "      <td>8.18</td>\n",
       "      <td>1,015,401.00</td>\n",
       "    </tr>\n",
       "    <tr>\n",
       "      <th>Christopher Nolan</th>\n",
       "      <td>8</td>\n",
       "      <td>8.46</td>\n",
       "      <td>1,447,293.12</td>\n",
       "    </tr>\n",
       "  </tbody>\n",
       "</table>\n",
       "</div>"
      ],
      "text/plain": [
       "                   Movie_Count  avg IMDB_Rating  avg No_of_Votes\n",
       "Director                                                        \n",
       "Alfred Hitchcock            14             8.01       192,612.64\n",
       "Steven Spielberg            13             8.03       601,320.46\n",
       "Hayao Miyazaki              11             8.02       213,519.82\n",
       "Martin Scorsese             10             8.17       651,353.00\n",
       "Akira Kurosawa              10             8.22        94,159.90\n",
       "Stanley Kubrick              9             8.23       435,472.67\n",
       "Woody Allen                  9             7.79       135,834.22\n",
       "Billy Wilder                 9             8.14       115,322.56\n",
       "Quentin Tarantino            8             8.18     1,015,401.00\n",
       "Christopher Nolan            8             8.46     1,447,293.12"
      ]
     },
     "execution_count": 418,
     "metadata": {},
     "output_type": "execute_result"
    }
   ],
   "source": [
    "#There are directors who appear more than once \n",
    "#Top 10 Directors by Number of Movies in the list\n",
    "print(\"Top 10 Directors by Number of Movies:\")\n",
    "director_stats = director_stats.sort_values(by=['Movie_Count'], ascending=False)\n",
    "director_stats.head(10)"
   ]
  },
  {
   "cell_type": "markdown",
   "id": "8dcbbfae",
   "metadata": {},
   "source": [
    "# **4.**\n",
    "**What is the average meta score rating per genre? What are the top five?**"
   ]
  },
  {
   "cell_type": "code",
   "execution_count": 419,
   "id": "8cd4a2ed",
   "metadata": {},
   "outputs": [
    {
     "name": "stdout",
     "output_type": "stream",
     "text": [
      "Average Meta Scores (by genre):\n",
      "Drama       77.18\n",
      "Crime       74.44\n",
      "Action      73.79\n",
      "Biography   76.43\n",
      "Western     81.06\n",
      "Comedy      77.44\n",
      "Adventure   77.88\n",
      "Animation   81.84\n",
      "Horror      77.28\n",
      "Mystery     77.21\n",
      "Film-Noir   91.83\n",
      "Fantasy     76.00\n",
      "Family      77.23\n",
      "Thriller    76.01\n",
      "dtype: float64\n",
      "\n",
      "Top 3 Meta Score (by genre):\n",
      "Film-Noir   91.83\n",
      "Animation   81.84\n",
      "Western     81.06\n",
      "dtype: float64\n"
     ]
    }
   ],
   "source": [
    "data_df2 = data_df\n",
    "data_df2.replace(\"\", np.nan, inplace=True)\n",
    "data_df2 = data_df2.dropna()\n",
    "\n",
    "def get_metascore_by_genre(genre):\n",
    "    return data_df2['Meta_score'][data_df2['Genre'].str.contains(genre, regex=False)].astype(int)\n",
    "\n",
    "metascore_by_genre = pd.DataFrame(index=range(len(data_df)),columns=range(len(genres)))\n",
    "metascore_by_genre.columns = genres\n",
    "\n",
    "for i in genres:\n",
    "    metascore_by_genre[i] = get_metascore_by_genre(i)\n",
    "\n",
    "avg_metascore_by_genre = metascore_by_genre.mean(axis = 0, skipna = True)\n",
    "\n",
    "print('Average Meta Scores (by genre):')\n",
    "print(avg_metascore_by_genre.round(3))\n",
    "print('\\nTop 3 Meta Score (by genre):\\n'+str(avg_metascore_by_genre.sort_values(ascending = False).round(3)[:3]))"
   ]
  },
  {
   "cell_type": "markdown",
   "id": "9adbaf99",
   "metadata": {},
   "source": [
    "# **5.**\n",
    "**What year has the highest meta score?**"
   ]
  },
  {
   "cell_type": "code",
   "execution_count": 420,
   "id": "a0034760",
   "metadata": {},
   "outputs": [
    {
     "data": {
      "text/plain": [
       "array(['1920', '1921', '1922', '1924', '1925', '1926', '1927', '1928',\n",
       "       '1930', '1931', '1932', '1933', '1934', '1935', '1936', '1937',\n",
       "       '1938', '1939', '1940', '1941', '1942', '1943', '1944', '1945',\n",
       "       '1946', '1947', '1948', '1949', '1950', '1951', '1952', '1953',\n",
       "       '1954', '1955', '1956', '1957', '1958', '1959', '1960', '1961',\n",
       "       '1962', '1963', '1964', '1965', '1966', '1967', '1968', '1969',\n",
       "       '1970', '1971', '1972', '1973', '1974', '1975', '1976', '1977',\n",
       "       '1978', '1979', '1980', '1981', '1982', '1983', '1984', '1985',\n",
       "       '1986', '1987', '1988', '1989', '1990', '1991', '1992', '1993',\n",
       "       '1994', '1995', '1996', '1997', '1998', '1999', '2000', '2001',\n",
       "       '2002', '2003', '2004', '2005', '2006', '2007', '2008', '2009',\n",
       "       '2010', '2011', '2012', '2013', '2014', '2015', '2016', '2017',\n",
       "       '2018', '2019', '2020'], dtype=object)"
      ]
     },
     "execution_count": 420,
     "metadata": {},
     "output_type": "execute_result"
    }
   ],
   "source": [
    "# range of years of the movies\n",
    "years = []\n",
    "\n",
    "for i in range(len(data)):\n",
    "    if data[i][\"Released_Year\"] != \"PG\": # one movie in the dataset is listed as \"PG\" on the release year,\n",
    "                                         # so this will ignore it\n",
    "        years.append(data[i][\"Released_Year\"])\n",
    "    \n",
    "# all the years included in this dataset\n",
    "years = pd.Series(years)\n",
    "years = years.sort_values(ascending = True)\n",
    "years = years.drop_duplicates()\n",
    "years = years.reindex()\n",
    "years.values"
   ]
  },
  {
   "cell_type": "code",
   "execution_count": 421,
   "id": "c1bb7349",
   "metadata": {},
   "outputs": [],
   "source": [
    "data_df3 = data_df\n",
    "data_df3.replace(\"\", np.nan, inplace=True)\n",
    "data_df3 = data_df3.dropna()\n",
    "\n",
    "def get_metascore_by_year(year):\n",
    "    return data_df3['Meta_score'][data_df3['Released_Year'].str.contains(year, regex=False)].astype(int)\n",
    "\n",
    "metascore_by_year = pd.DataFrame(index=range(len(data_df3)),columns=range(len(years.values)))\n",
    "metascore_by_year.columns = years.values\n",
    "\n",
    "for i in years.values.astype(str):\n",
    "    metascore_by_year[i] = get_metascore_by_year(i)\n",
    "\n",
    "highest_metascore_by_year = metascore_by_year.max(axis = 0, skipna = True)"
   ]
  },
  {
   "cell_type": "code",
   "execution_count": 422,
   "id": "50b84529",
   "metadata": {},
   "outputs": [
    {
     "name": "stdout",
     "output_type": "stream",
     "text": [
      "\n",
      "Highest Meta Scores (by year, in the last 15 years):\n"
     ]
    },
    {
     "data": {
      "text/plain": [
       "2006    98.00\n",
       "2007    96.00\n",
       "2008    95.00\n",
       "2009    90.00\n",
       "2010    92.00\n",
       "2011    95.00\n",
       "2012    94.00\n",
       "2013    96.00\n",
       "2014   100.00\n",
       "2015    94.00\n",
       "2016    96.00\n",
       "2017    94.00\n",
       "2018    93.00\n",
       "2019    96.00\n",
       "2020      NaN\n",
       "dtype: float64"
      ]
     },
     "execution_count": 422,
     "metadata": {},
     "output_type": "execute_result"
    }
   ],
   "source": [
    "print('\\nHighest Meta Scores (by year, in the last 15 years):')\n",
    "highest_metascore_by_year.tail(15)"
   ]
  },
  {
   "cell_type": "code",
   "execution_count": 423,
   "id": "1d81d7bf",
   "metadata": {},
   "outputs": [
    {
     "name": "stdout",
     "output_type": "stream",
     "text": [
      "\n",
      "The Highest Meta Score (by year):\n",
      "1970   100.00\n",
      "dtype: float64\n"
     ]
    }
   ],
   "source": [
    "print('\\nThe Highest Meta Score (by year):')\n",
    "print(highest_metascore_by_year.sort_values(ascending = False)[:1])"
   ]
  },
  {
   "cell_type": "markdown",
   "id": "1638e9f4",
   "metadata": {},
   "source": [
    "*So the highest Meta Score (100) came in 1970*"
   ]
  },
  {
   "cell_type": "markdown",
   "id": "b66a8b47",
   "metadata": {},
   "source": [
    "# **6.**\n",
    "**Runtime per certification?**"
   ]
  },
  {
   "cell_type": "code",
   "execution_count": 424,
   "id": "f11101cb",
   "metadata": {},
   "outputs": [
    {
     "name": "stderr",
     "output_type": "stream",
     "text": [
      "/tmp/ipykernel_44/4145960008.py:2: SettingWithCopyWarning: \n",
      "A value is trying to be set on a copy of a slice from a DataFrame.\n",
      "Try using .loc[row_indexer,col_indexer] = value instead\n",
      "\n",
      "See the caveats in the documentation: https://pandas.pydata.org/pandas-docs/stable/user_guide/indexing.html#returning-a-view-versus-a-copy\n",
      "  cert_stats['Runtime'] = cert_stats['Runtime'].map(lambda x: x.rstrip(' min'))\n",
      "/tmp/ipykernel_44/4145960008.py:3: SettingWithCopyWarning: \n",
      "A value is trying to be set on a copy of a slice from a DataFrame.\n",
      "Try using .loc[row_indexer,col_indexer] = value instead\n",
      "\n",
      "See the caveats in the documentation: https://pandas.pydata.org/pandas-docs/stable/user_guide/indexing.html#returning-a-view-versus-a-copy\n",
      "  cert_stats['Runtime'] = cert_stats['Runtime'].astype(int)\n"
     ]
    },
    {
     "data": {
      "text/html": [
       "<div>\n",
       "<style scoped>\n",
       "    .dataframe tbody tr th:only-of-type {\n",
       "        vertical-align: middle;\n",
       "    }\n",
       "\n",
       "    .dataframe tbody tr th {\n",
       "        vertical-align: top;\n",
       "    }\n",
       "\n",
       "    .dataframe thead th {\n",
       "        text-align: right;\n",
       "    }\n",
       "</style>\n",
       "<table border=\"1\" class=\"dataframe\">\n",
       "  <thead>\n",
       "    <tr style=\"text-align: right;\">\n",
       "      <th></th>\n",
       "      <th>avg Runtime (min)</th>\n",
       "    </tr>\n",
       "    <tr>\n",
       "      <th>Certificate</th>\n",
       "      <th></th>\n",
       "    </tr>\n",
       "  </thead>\n",
       "  <tbody>\n",
       "    <tr>\n",
       "      <th>16</th>\n",
       "      <td>130.00</td>\n",
       "    </tr>\n",
       "    <tr>\n",
       "      <th>A</th>\n",
       "      <td>128.94</td>\n",
       "    </tr>\n",
       "    <tr>\n",
       "      <th>Approved</th>\n",
       "      <td>111.09</td>\n",
       "    </tr>\n",
       "    <tr>\n",
       "      <th>G</th>\n",
       "      <td>119.67</td>\n",
       "    </tr>\n",
       "    <tr>\n",
       "      <th>GP</th>\n",
       "      <td>124.50</td>\n",
       "    </tr>\n",
       "    <tr>\n",
       "      <th>PG</th>\n",
       "      <td>114.27</td>\n",
       "    </tr>\n",
       "    <tr>\n",
       "      <th>PG-13</th>\n",
       "      <td>116.95</td>\n",
       "    </tr>\n",
       "    <tr>\n",
       "      <th>Passed</th>\n",
       "      <td>106.21</td>\n",
       "    </tr>\n",
       "    <tr>\n",
       "      <th>R</th>\n",
       "      <td>122.37</td>\n",
       "    </tr>\n",
       "    <tr>\n",
       "      <th>TV-14</th>\n",
       "      <td>132.00</td>\n",
       "    </tr>\n",
       "    <tr>\n",
       "      <th>TV-MA</th>\n",
       "      <td>106.00</td>\n",
       "    </tr>\n",
       "    <tr>\n",
       "      <th>TV-PG</th>\n",
       "      <td>93.67</td>\n",
       "    </tr>\n",
       "    <tr>\n",
       "      <th>U</th>\n",
       "      <td>124.16</td>\n",
       "    </tr>\n",
       "    <tr>\n",
       "      <th>U/A</th>\n",
       "      <td>102.00</td>\n",
       "    </tr>\n",
       "    <tr>\n",
       "      <th>UA</th>\n",
       "      <td>129.33</td>\n",
       "    </tr>\n",
       "    <tr>\n",
       "      <th>Unrated</th>\n",
       "      <td>183.00</td>\n",
       "    </tr>\n",
       "  </tbody>\n",
       "</table>\n",
       "</div>"
      ],
      "text/plain": [
       "             avg Runtime (min)\n",
       "Certificate                   \n",
       "16                      130.00\n",
       "A                       128.94\n",
       "Approved                111.09\n",
       "G                       119.67\n",
       "GP                      124.50\n",
       "PG                      114.27\n",
       "PG-13                   116.95\n",
       "Passed                  106.21\n",
       "R                       122.37\n",
       "TV-14                   132.00\n",
       "TV-MA                   106.00\n",
       "TV-PG                    93.67\n",
       "U                       124.16\n",
       "U/A                     102.00\n",
       "UA                      129.33\n",
       "Unrated                 183.00"
      ]
     },
     "execution_count": 424,
     "metadata": {},
     "output_type": "execute_result"
    }
   ],
   "source": [
    "cert_stats = data_df[['Certificate', 'Runtime']]\n",
    "cert_stats['Runtime'] = cert_stats['Runtime'].map(lambda x: x.rstrip(' min'))\n",
    "cert_stats['Runtime'] = cert_stats['Runtime'].astype(int)\n",
    "cert_stats = cert_stats[['Certificate', 'Runtime']].groupby(['Certificate']).mean()\n",
    "cert_stats = cert_stats.rename(columns={\"Runtime\" : \"avg Runtime (min)\"})\n",
    "cert_stats"
   ]
  },
  {
   "cell_type": "markdown",
   "id": "6a78c412",
   "metadata": {},
   "source": [
    "# **7.** \n",
    "**What is the shortest runtime? What is the longest runtime? Which one has the higher IMDB rating? Which one has the higher meta score?\n",
    "Follow up questions: What is the runtime of the movie with the highest meta score? How does it compare to the highest/lowest runtime movies?**"
   ]
  },
  {
   "cell_type": "code",
   "execution_count": 425,
   "id": "121daa53",
   "metadata": {},
   "outputs": [],
   "source": [
    "data_df4 = pd.DataFrame(data)"
   ]
  },
  {
   "cell_type": "code",
   "execution_count": 426,
   "id": "2ec283d7",
   "metadata": {},
   "outputs": [
    {
     "name": "stderr",
     "output_type": "stream",
     "text": [
      "/tmp/ipykernel_44/1842341354.py:1: FutureWarning: The default value of regex will change from True to False in a future version.\n",
      "  data_df4['Runtime'] = data_df4['Runtime'].str.replace(r'\\D', '') # removing str 'min' from each value\n"
     ]
    }
   ],
   "source": [
    "data_df4['Runtime'] = data_df4['Runtime'].str.replace(r'\\D', '') # removing str 'min' from each value\n",
    "data_df4['Runtime'] = data_df4['Runtime'].astype(int) # converting the str values to ints"
   ]
  },
  {
   "cell_type": "code",
   "execution_count": 427,
   "id": "4e3a4726",
   "metadata": {},
   "outputs": [
    {
     "name": "stdout",
     "output_type": "stream",
     "text": [
      "The shortest runtime is: 45 minutes\n",
      "The longest runtime is: 321 minutes\n"
     ]
    }
   ],
   "source": [
    "shortest_rt = data_df4['Runtime'].min()\n",
    "print(\"The shortest runtime is: \"+str(shortest_rt)+\" minutes\")\n",
    "longest_rt = data_df4['Runtime'].max()\n",
    "print(\"The longest runtime is: \"+str(longest_rt)+\" minutes\")"
   ]
  },
  {
   "cell_type": "code",
   "execution_count": 428,
   "id": "050a6e8f",
   "metadata": {},
   "outputs": [
    {
     "name": "stdout",
     "output_type": "stream",
     "text": [
      "Shortest runtime IMDB rating: 8.2\n",
      "Longest runtime IMDB rating: 8.2\n"
     ]
    }
   ],
   "source": [
    "shortest_rt_IMDB_rating = data_df4['IMDB_Rating'][data_df4['Runtime'] == shortest_rt]\n",
    "print(\"Shortest runtime IMDB rating: \"+str(float(shortest_rt_IMDB_rating.values)))\n",
    "longest_rt_IMDB_rating = data_df4['IMDB_Rating'][data_df4['Runtime'] == longest_rt]\n",
    "print(\"Longest runtime IMDB rating: \"+str(float(longest_rt_IMDB_rating.values)))"
   ]
  },
  {
   "cell_type": "code",
   "execution_count": 429,
   "id": "7b8ac61a",
   "metadata": {},
   "outputs": [
    {
     "name": "stdout",
     "output_type": "stream",
     "text": [
      "Both movies have the exact same IMDB rating\n",
      "Shortest runtime movie meta score: ['']\n",
      "Shortest runtime movie has no meta score\n",
      "\n",
      "The next shortest runtime is: 64\n"
     ]
    }
   ],
   "source": [
    "# x is the movie with the shorter runtime, y is the movie with the longer runtime\n",
    "def compare_values(x, y):\n",
    "    if x > y:\n",
    "        return \"The movie with the shortest runtime has the higher IMDB rating\"\n",
    "    elif y > x:\n",
    "        return \"The movie with the longest runtime has the higher IMDB rating\"\n",
    "    else:\n",
    "        return \"Both movies have the exact same IMDB rating\"\n",
    "\n",
    "result = compare_values(float(longest_rt_IMDB_rating.values), float(shortest_rt_IMDB_rating.values))\n",
    "print(result)\n",
    "\n",
    "shortest_rt_meta_score = data_df4['Meta_score'][data_df4['Runtime'] == shortest_rt]\n",
    "print(\"Shortest runtime movie meta score: \"+str(shortest_rt_meta_score.values))\n",
    "print(\"Shortest runtime movie has no meta score\\n\")\n",
    "\n",
    "\n",
    "data_df5 = data_df4.drop(labels=194, axis=0)\n",
    "shortest_rt_2 = data_df5['Runtime'].min()\n",
    "print(\"The next shortest runtime is: \"+str(shortest_rt_2))"
   ]
  },
  {
   "cell_type": "code",
   "execution_count": 430,
   "id": "b95e307b",
   "metadata": {},
   "outputs": [
    {
     "name": "stdout",
     "output_type": "stream",
     "text": [
      "The next shortest runtime movie meta score: 80.0\n",
      "Longest runtime movie meta score: 89.0\n"
     ]
    }
   ],
   "source": [
    "shortest_rt_meta_score_2 = data_df4['Meta_score'][data_df4['Runtime'] == shortest_rt_2]\n",
    "print(\"The next shortest runtime movie meta score: \"+str(float(shortest_rt_meta_score_2.values)))\n",
    "\n",
    "longest_rt_meta_score = data_df4['Meta_score'][data_df4['Runtime'] == longest_rt]\n",
    "print(\"Longest runtime movie meta score: \"+str(float(longest_rt_meta_score.values)))"
   ]
  },
  {
   "cell_type": "code",
   "execution_count": 431,
   "id": "d2c4098f",
   "metadata": {},
   "outputs": [
    {
     "name": "stdout",
     "output_type": "stream",
     "text": [
      "The movie with the longest runtime has the higher meta score\n"
     ]
    }
   ],
   "source": [
    "# x is the movie with the shorter runtime, y is the movie with the longer runtime\n",
    "def compare_values_2(x, y):\n",
    "    if x > y:\n",
    "        return \"The movie with the shortest runtime has the higher meta score\"\n",
    "    elif y > x:\n",
    "        return \"The movie with the longest runtime has the higher meta score\"\n",
    "    else:\n",
    "        return \"Both movies have the exact same meta score\"\n",
    "    \n",
    "result_2 = compare_values_2(float(shortest_rt_meta_score_2.values), float(longest_rt_meta_score.values))\n",
    "print(result_2)"
   ]
  },
  {
   "cell_type": "code",
   "execution_count": 432,
   "id": "a5e60491",
   "metadata": {},
   "outputs": [
    {
     "name": "stdout",
     "output_type": "stream",
     "text": [
      "The average runtime of the movies with the joint highest meta score is: 94.25\n"
     ]
    }
   ],
   "source": [
    "# Follow up questions:\n",
    "# What is the runtime of the movie with the highest meta score?\n",
    "# How does it compare to the highest/lowest runtime movies?\n",
    "highest_ms = data_df4['Meta_score'].max()\n",
    "highest_ms_mov = data_df4[data_df4['Meta_score'] == highest_ms]\n",
    "avg_runtime = highest_ms_mov['Runtime'].mean()\n",
    "print(\"The average runtime of the movies with the joint highest meta score is: \"+str(avg_runtime))"
   ]
  },
  {
   "cell_type": "markdown",
   "id": "914a07f2",
   "metadata": {},
   "source": [
    "# **8.**\n",
    "**Which director has the highest IMDB score? Which director has the highest Meta score?**"
   ]
  },
  {
   "cell_type": "code",
   "execution_count": 433,
   "id": "b10bf1c1",
   "metadata": {},
   "outputs": [
    {
     "name": "stdout",
     "output_type": "stream",
     "text": [
      "Top 10 Directors by average number of votes on IMDb:\n"
     ]
    },
    {
     "data": {
      "text/html": [
       "<div>\n",
       "<style scoped>\n",
       "    .dataframe tbody tr th:only-of-type {\n",
       "        vertical-align: middle;\n",
       "    }\n",
       "\n",
       "    .dataframe tbody tr th {\n",
       "        vertical-align: top;\n",
       "    }\n",
       "\n",
       "    .dataframe thead th {\n",
       "        text-align: right;\n",
       "    }\n",
       "</style>\n",
       "<table border=\"1\" class=\"dataframe\">\n",
       "  <thead>\n",
       "    <tr style=\"text-align: right;\">\n",
       "      <th></th>\n",
       "      <th>Movie_Count</th>\n",
       "      <th>avg IMDB_Rating</th>\n",
       "      <th>avg No_of_Votes</th>\n",
       "    </tr>\n",
       "    <tr>\n",
       "      <th>Director</th>\n",
       "      <th></th>\n",
       "      <th></th>\n",
       "      <th></th>\n",
       "    </tr>\n",
       "  </thead>\n",
       "  <tbody>\n",
       "    <tr>\n",
       "      <th>Frank Darabont</th>\n",
       "      <td>2</td>\n",
       "      <td>8.95</td>\n",
       "      <td>1,745,452.00</td>\n",
       "    </tr>\n",
       "    <tr>\n",
       "      <th>Lana Wachowski</th>\n",
       "      <td>1</td>\n",
       "      <td>8.70</td>\n",
       "      <td>1,676,426.00</td>\n",
       "    </tr>\n",
       "    <tr>\n",
       "      <th>Christopher Nolan</th>\n",
       "      <td>8</td>\n",
       "      <td>8.46</td>\n",
       "      <td>1,447,293.12</td>\n",
       "    </tr>\n",
       "    <tr>\n",
       "      <th>George Lucas</th>\n",
       "      <td>1</td>\n",
       "      <td>8.60</td>\n",
       "      <td>1,231,473.00</td>\n",
       "    </tr>\n",
       "    <tr>\n",
       "      <th>Peter Jackson</th>\n",
       "      <td>5</td>\n",
       "      <td>8.40</td>\n",
       "      <td>1,229,715.80</td>\n",
       "    </tr>\n",
       "    <tr>\n",
       "      <th>Irvin Kershner</th>\n",
       "      <td>1</td>\n",
       "      <td>8.70</td>\n",
       "      <td>1,159,315.00</td>\n",
       "    </tr>\n",
       "    <tr>\n",
       "      <th>James McTeigue</th>\n",
       "      <td>1</td>\n",
       "      <td>8.20</td>\n",
       "      <td>1,032,749.00</td>\n",
       "    </tr>\n",
       "    <tr>\n",
       "      <th>Quentin Tarantino</th>\n",
       "      <td>8</td>\n",
       "      <td>8.18</td>\n",
       "      <td>1,015,401.00</td>\n",
       "    </tr>\n",
       "    <tr>\n",
       "      <th>Gore Verbinski</th>\n",
       "      <td>1</td>\n",
       "      <td>8.00</td>\n",
       "      <td>1,015,122.00</td>\n",
       "    </tr>\n",
       "    <tr>\n",
       "      <th>Andrew Stanton</th>\n",
       "      <td>2</td>\n",
       "      <td>8.25</td>\n",
       "      <td>974,677.50</td>\n",
       "    </tr>\n",
       "  </tbody>\n",
       "</table>\n",
       "</div>"
      ],
      "text/plain": [
       "                   Movie_Count  avg IMDB_Rating  avg No_of_Votes\n",
       "Director                                                        \n",
       "Frank Darabont               2             8.95     1,745,452.00\n",
       "Lana Wachowski               1             8.70     1,676,426.00\n",
       "Christopher Nolan            8             8.46     1,447,293.12\n",
       "George Lucas                 1             8.60     1,231,473.00\n",
       "Peter Jackson                5             8.40     1,229,715.80\n",
       "Irvin Kershner               1             8.70     1,159,315.00\n",
       "James McTeigue               1             8.20     1,032,749.00\n",
       "Quentin Tarantino            8             8.18     1,015,401.00\n",
       "Gore Verbinski               1             8.00     1,015,122.00\n",
       "Andrew Stanton               2             8.25       974,677.50"
      ]
     },
     "execution_count": 433,
     "metadata": {},
     "output_type": "execute_result"
    }
   ],
   "source": [
    "#Top 10 Directors by No of Votes on IMDB\n",
    "print(\"Top 10 Directors by average number of votes on IMDb:\")\n",
    "director_stats = director_stats.sort_values(by=['avg No_of_Votes'], ascending=False)\n",
    "director_stats.head(10)"
   ]
  },
  {
   "cell_type": "code",
   "execution_count": 434,
   "id": "a625a925",
   "metadata": {},
   "outputs": [
    {
     "data": {
      "text/html": [
       "<div>\n",
       "<style scoped>\n",
       "    .dataframe tbody tr th:only-of-type {\n",
       "        vertical-align: middle;\n",
       "    }\n",
       "\n",
       "    .dataframe tbody tr th {\n",
       "        vertical-align: top;\n",
       "    }\n",
       "\n",
       "    .dataframe thead th {\n",
       "        text-align: right;\n",
       "    }\n",
       "</style>\n",
       "<table border=\"1\" class=\"dataframe\">\n",
       "  <thead>\n",
       "    <tr style=\"text-align: right;\">\n",
       "      <th></th>\n",
       "      <th>Poster_Link</th>\n",
       "      <th>Series_Title</th>\n",
       "      <th>Released_Year</th>\n",
       "      <th>Certificate</th>\n",
       "      <th>Runtime</th>\n",
       "      <th>Genre</th>\n",
       "      <th>IMDB_Rating</th>\n",
       "      <th>Overview</th>\n",
       "      <th>Meta_score</th>\n",
       "      <th>Director</th>\n",
       "      <th>Star1</th>\n",
       "      <th>Star2</th>\n",
       "      <th>Star3</th>\n",
       "      <th>Star4</th>\n",
       "      <th>No_of_Votes</th>\n",
       "      <th>Gross</th>\n",
       "      <th>Movie_Count</th>\n",
       "    </tr>\n",
       "  </thead>\n",
       "  <tbody>\n",
       "    <tr>\n",
       "      <th>0</th>\n",
       "      <td>https://m.media-amazon.com/images/M/MV5BMDFkYT...</td>\n",
       "      <td>The Shawshank Redemption</td>\n",
       "      <td>1994</td>\n",
       "      <td>A</td>\n",
       "      <td>142 min</td>\n",
       "      <td>Drama</td>\n",
       "      <td>9.30</td>\n",
       "      <td>Two imprisoned men bond over a number of years...</td>\n",
       "      <td>80</td>\n",
       "      <td>Frank Darabont</td>\n",
       "      <td>Tim Robbins</td>\n",
       "      <td>Morgan Freeman</td>\n",
       "      <td>Bob Gunton</td>\n",
       "      <td>William Sadler</td>\n",
       "      <td>2,343,110.00</td>\n",
       "      <td>28,341,469</td>\n",
       "      <td>1</td>\n",
       "    </tr>\n",
       "    <tr>\n",
       "      <th>25</th>\n",
       "      <td>https://m.media-amazon.com/images/M/MV5BMTUxMz...</td>\n",
       "      <td>The Green Mile</td>\n",
       "      <td>1999</td>\n",
       "      <td>A</td>\n",
       "      <td>189 min</td>\n",
       "      <td>Crime, Drama, Fantasy</td>\n",
       "      <td>8.60</td>\n",
       "      <td>The lives of guards on Death Row are affected ...</td>\n",
       "      <td>61</td>\n",
       "      <td>Frank Darabont</td>\n",
       "      <td>Tom Hanks</td>\n",
       "      <td>Michael Clarke Duncan</td>\n",
       "      <td>David Morse</td>\n",
       "      <td>Bonnie Hunt</td>\n",
       "      <td>1,147,794.00</td>\n",
       "      <td>136,801,374</td>\n",
       "      <td>1</td>\n",
       "    </tr>\n",
       "  </tbody>\n",
       "</table>\n",
       "</div>"
      ],
      "text/plain": [
       "                                          Poster_Link  \\\n",
       "0   https://m.media-amazon.com/images/M/MV5BMDFkYT...   \n",
       "25  https://m.media-amazon.com/images/M/MV5BMTUxMz...   \n",
       "\n",
       "                Series_Title Released_Year Certificate  Runtime  \\\n",
       "0   The Shawshank Redemption          1994           A  142 min   \n",
       "25            The Green Mile          1999           A  189 min   \n",
       "\n",
       "                    Genre  IMDB_Rating  \\\n",
       "0                   Drama         9.30   \n",
       "25  Crime, Drama, Fantasy         8.60   \n",
       "\n",
       "                                             Overview Meta_score  \\\n",
       "0   Two imprisoned men bond over a number of years...         80   \n",
       "25  The lives of guards on Death Row are affected ...         61   \n",
       "\n",
       "          Director        Star1                  Star2        Star3  \\\n",
       "0   Frank Darabont  Tim Robbins         Morgan Freeman   Bob Gunton   \n",
       "25  Frank Darabont    Tom Hanks  Michael Clarke Duncan  David Morse   \n",
       "\n",
       "             Star4  No_of_Votes        Gross  Movie_Count  \n",
       "0   William Sadler 2,343,110.00   28,341,469            1  \n",
       "25     Bonnie Hunt 1,147,794.00  136,801,374            1  "
      ]
     },
     "execution_count": 434,
     "metadata": {},
     "output_type": "execute_result"
    }
   ],
   "source": [
    "#Find movies directed by Darabont\n",
    "Darabont = data_df.loc[data_df['Director'].str.contains(\"Frank Darabont\")]\n",
    "Darabont"
   ]
  },
  {
   "cell_type": "code",
   "execution_count": 435,
   "id": "bb01b2c3",
   "metadata": {},
   "outputs": [],
   "source": [
    "data_df.replace(\"\", np.nan, inplace=True)\n",
    "data_df = data_df.dropna()\n",
    "data_df['Meta_score'] = data_df['Meta_score'].astype(int)\n",
    "director_stats['Meta_score'] = data_df[['Director','Meta_score']].groupby(['Director']).mean()\n",
    "director_stats = director_stats.rename(columns={\"Meta_score\" : \"avg Meta_score\"})"
   ]
  },
  {
   "cell_type": "code",
   "execution_count": 436,
   "id": "3ebc0ede",
   "metadata": {},
   "outputs": [
    {
     "name": "stdout",
     "output_type": "stream",
     "text": [
      "Top 10 Directors by average Meta Score:\n",
      "\n"
     ]
    },
    {
     "data": {
      "text/html": [
       "<div>\n",
       "<style scoped>\n",
       "    .dataframe tbody tr th:only-of-type {\n",
       "        vertical-align: middle;\n",
       "    }\n",
       "\n",
       "    .dataframe tbody tr th {\n",
       "        vertical-align: top;\n",
       "    }\n",
       "\n",
       "    .dataframe thead th {\n",
       "        text-align: right;\n",
       "    }\n",
       "</style>\n",
       "<table border=\"1\" class=\"dataframe\">\n",
       "  <thead>\n",
       "    <tr style=\"text-align: right;\">\n",
       "      <th></th>\n",
       "      <th>Movie_Count</th>\n",
       "      <th>avg IMDB_Rating</th>\n",
       "      <th>avg No_of_Votes</th>\n",
       "      <th>avg Meta_score</th>\n",
       "    </tr>\n",
       "    <tr>\n",
       "      <th>Director</th>\n",
       "      <th></th>\n",
       "      <th></th>\n",
       "      <th></th>\n",
       "      <th></th>\n",
       "    </tr>\n",
       "  </thead>\n",
       "  <tbody>\n",
       "    <tr>\n",
       "      <th>Ingmar Bergman</th>\n",
       "      <td>7</td>\n",
       "      <td>8.14</td>\n",
       "      <td>72,296.14</td>\n",
       "      <td>100.00</td>\n",
       "    </tr>\n",
       "    <tr>\n",
       "      <th>Orson Welles</th>\n",
       "      <td>2</td>\n",
       "      <td>8.15</td>\n",
       "      <td>250,891.00</td>\n",
       "      <td>99.50</td>\n",
       "    </tr>\n",
       "    <tr>\n",
       "      <th>Michael Curtiz</th>\n",
       "      <td>2</td>\n",
       "      <td>8.20</td>\n",
       "      <td>284,634.00</td>\n",
       "      <td>98.50</td>\n",
       "    </tr>\n",
       "    <tr>\n",
       "      <th>Guillermo del Toro</th>\n",
       "      <td>1</td>\n",
       "      <td>8.20</td>\n",
       "      <td>618,623.00</td>\n",
       "      <td>98.00</td>\n",
       "    </tr>\n",
       "    <tr>\n",
       "      <th>Joseph L. Mankiewicz</th>\n",
       "      <td>2</td>\n",
       "      <td>8.10</td>\n",
       "      <td>82,643.50</td>\n",
       "      <td>98.00</td>\n",
       "    </tr>\n",
       "    <tr>\n",
       "      <th>Charles Chaplin</th>\n",
       "      <td>6</td>\n",
       "      <td>8.33</td>\n",
       "      <td>138,907.00</td>\n",
       "      <td>97.50</td>\n",
       "    </tr>\n",
       "    <tr>\n",
       "      <th>Akira Kurosawa</th>\n",
       "      <td>10</td>\n",
       "      <td>8.22</td>\n",
       "      <td>94,159.90</td>\n",
       "      <td>97.00</td>\n",
       "    </tr>\n",
       "    <tr>\n",
       "      <th>Sam Peckinpah</th>\n",
       "      <td>1</td>\n",
       "      <td>7.90</td>\n",
       "      <td>77,401.00</td>\n",
       "      <td>97.00</td>\n",
       "    </tr>\n",
       "    <tr>\n",
       "      <th>Carol Reed</th>\n",
       "      <td>1</td>\n",
       "      <td>8.10</td>\n",
       "      <td>158,731.00</td>\n",
       "      <td>97.00</td>\n",
       "    </tr>\n",
       "    <tr>\n",
       "      <th>Steve McQueen</th>\n",
       "      <td>1</td>\n",
       "      <td>8.10</td>\n",
       "      <td>640,533.00</td>\n",
       "      <td>96.00</td>\n",
       "    </tr>\n",
       "  </tbody>\n",
       "</table>\n",
       "</div>"
      ],
      "text/plain": [
       "                      Movie_Count  avg IMDB_Rating  avg No_of_Votes  \\\n",
       "Director                                                              \n",
       "Ingmar Bergman                  7             8.14        72,296.14   \n",
       "Orson Welles                    2             8.15       250,891.00   \n",
       "Michael Curtiz                  2             8.20       284,634.00   \n",
       "Guillermo del Toro              1             8.20       618,623.00   \n",
       "Joseph L. Mankiewicz            2             8.10        82,643.50   \n",
       "Charles Chaplin                 6             8.33       138,907.00   \n",
       "Akira Kurosawa                 10             8.22        94,159.90   \n",
       "Sam Peckinpah                   1             7.90        77,401.00   \n",
       "Carol Reed                      1             8.10       158,731.00   \n",
       "Steve McQueen                   1             8.10       640,533.00   \n",
       "\n",
       "                      avg Meta_score  \n",
       "Director                              \n",
       "Ingmar Bergman                100.00  \n",
       "Orson Welles                   99.50  \n",
       "Michael Curtiz                 98.50  \n",
       "Guillermo del Toro             98.00  \n",
       "Joseph L. Mankiewicz           98.00  \n",
       "Charles Chaplin                97.50  \n",
       "Akira Kurosawa                 97.00  \n",
       "Sam Peckinpah                  97.00  \n",
       "Carol Reed                     97.00  \n",
       "Steve McQueen                  96.00  "
      ]
     },
     "execution_count": 436,
     "metadata": {},
     "output_type": "execute_result"
    }
   ],
   "source": [
    "#Top 10 Directors by average Meta Score\n",
    "print(\"Top 10 Directors by average Meta Score:\\n\")\n",
    "director_stats = director_stats.sort_values(by=['avg Meta_score'], ascending=False)\n",
    "director_stats.head(10)"
   ]
  }
 ],
 "metadata": {
  "kernelspec": {
   "display_name": "Python 3 (ipykernel)",
   "language": "python",
   "name": "python3"
  },
  "language_info": {
   "codemirror_mode": {
    "name": "ipython",
    "version": 3
   },
   "file_extension": ".py",
   "mimetype": "text/x-python",
   "name": "python",
   "nbconvert_exporter": "python",
   "pygments_lexer": "ipython3",
   "version": "3.8.12"
  }
 },
 "nbformat": 4,
 "nbformat_minor": 5
}
