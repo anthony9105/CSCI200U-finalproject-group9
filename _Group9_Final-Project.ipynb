{
 "cells": [
  {
   "cell_type": "markdown",
   "id": "ffd64221",
   "metadata": {},
   "source": [
    "CSCI2000U final project group 9:\n",
    "    Paul Hruda, Garrett Kawabata, Anthony Liscio"
   ]
  },
  {
   "cell_type": "code",
   "execution_count": 450,
   "id": "6556349d",
   "metadata": {},
   "outputs": [],
   "source": [
    "import csv\n",
    "import numpy as np\n",
    "import pandas as pd\n",
    "import matplotlib.pyplot as plt\n",
    "import seaborn as sns\n",
    "\n",
    "def get_data_csv():\n",
    "    collection = []\n",
    "    with open('imdb_top_1000.csv', 'r') as f:\n",
    "        for line in csv.DictReader(f):\n",
    "            collection.append(line)\n",
    "        return collection\n",
    "        \n",
    "# the data    \n",
    "data = get_data_csv()\n",
    "\n",
    "data_df = pd.DataFrame(data)"
   ]
  },
  {
   "cell_type": "markdown",
   "id": "2bb9347f",
   "metadata": {},
   "source": [
    "# **1.**\n",
    "**What is the average IMDB rating per genre? What are the top three?**"
   ]
  },
  {
   "cell_type": "code",
   "execution_count": 451,
   "id": "a93045c6",
   "metadata": {},
   "outputs": [
    {
     "name": "stdout",
     "output_type": "stream",
     "text": [
      "There are 14 different game genres:\n",
      "['Drama', 'Crime', 'Action', 'Biography', 'Western', 'Comedy', 'Adventure', 'Animation', 'Horror', 'Mystery', 'Film-Noir', 'Fantasy', 'Family', 'Thriller']\n"
     ]
    }
   ],
   "source": [
    "# the different genres\n",
    "total_genres = []\n",
    "genres = []\n",
    "\n",
    "def fill_list_total(list_to_fill, key):   \n",
    "    for i in range(len(data)):\n",
    "        if data[i][key]:\n",
    "            list_to_fill.append(data[i][key])\n",
    "\n",
    "def fill_unique(list_to_fill, total_list):\n",
    "    for i in total_list:\n",
    "        if i not in list_to_fill:\n",
    "            list_to_fill.append(i)\n",
    "\n",
    "fill_list_total(total_genres, \"Genre\")\n",
    "total_genres = [line.split(',')[0] for line in total_genres] # many movies have more than one genre which are seperated\n",
    "                                                             # by comma, so this just removes the commas and splits the data into their own elements\n",
    "fill_unique(genres, total_genres)\n",
    "\n",
    "print(\"There are \"+str(len(genres))+\" different game genres:\")\n",
    "print(genres)"
   ]
  },
  {
   "cell_type": "code",
   "execution_count": 452,
   "id": "eb22408d",
   "metadata": {},
   "outputs": [
    {
     "name": "stdout",
     "output_type": "stream",
     "text": [
      "Average IMDB ratings (by genre):\n",
      "Drama       7.96\n",
      "Crime       7.96\n",
      "Action      7.95\n",
      "Biography   7.94\n",
      "Western     8.00\n",
      "Comedy      7.90\n",
      "Adventure   7.95\n",
      "Animation   7.93\n",
      "Horror      7.89\n",
      "Mystery     7.97\n",
      "Film-Noir   7.99\n",
      "Fantasy     7.93\n",
      "Family      7.91\n",
      "Thriller    7.91\n",
      "dtype: float64\n",
      "\n",
      "Top 3 IMDB rating (by genre):\n",
      "Western     8.00\n",
      "Film-Noir   7.99\n",
      "Mystery     7.97\n",
      "dtype: float64\n"
     ]
    }
   ],
   "source": [
    "def get_imdb_by_genre(genre):\n",
    "    return data_df['IMDB_Rating'][data_df['Genre'].str.contains(genre, regex=False)]\n",
    "\n",
    "imdb_by_genre = pd.DataFrame(index=range(len(data_df)),columns=range(len(genres)))\n",
    "imdb_by_genre.columns = genres\n",
    "\n",
    "for i in genres:\n",
    "    imdb_by_genre[i] = get_imdb_by_genre(i)\n",
    "    imdb_by_genre[i] = imdb_by_genre[i].astype(float)\n",
    "\n",
    "avg_imdb_by_genre = imdb_by_genre.mean(axis = 0, skipna = True)\n",
    "\n",
    "print('Average IMDB ratings (by genre):')\n",
    "print(avg_imdb_by_genre.round(3))\n",
    "print('\\nTop 3 IMDB rating (by genre):\\n'+str(avg_imdb_by_genre.sort_values(ascending = False).round(3)[:3]))"
   ]
  },
  {
   "cell_type": "markdown",
   "id": "8db837ff",
   "metadata": {},
   "source": [
    "# **2.**\n",
    "**Does the runtime correlate to the IMDB rating?**"
   ]
  },
  {
   "cell_type": "code",
   "execution_count": 453,
   "id": "8c0ff7e2",
   "metadata": {},
   "outputs": [
    {
     "name": "stderr",
     "output_type": "stream",
     "text": [
      "/tmp/ipykernel_44/3534495771.py:2: SettingWithCopyWarning: \n",
      "A value is trying to be set on a copy of a slice from a DataFrame.\n",
      "Try using .loc[row_indexer,col_indexer] = value instead\n",
      "\n",
      "See the caveats in the documentation: https://pandas.pydata.org/pandas-docs/stable/user_guide/indexing.html#returning-a-view-versus-a-copy\n",
      "  df_rt_imdb['Runtime'] = df_rt_imdb['Runtime'].map(lambda x: x.rstrip(' min'))\n",
      "/tmp/ipykernel_44/3534495771.py:3: SettingWithCopyWarning: \n",
      "A value is trying to be set on a copy of a slice from a DataFrame.\n",
      "Try using .loc[row_indexer,col_indexer] = value instead\n",
      "\n",
      "See the caveats in the documentation: https://pandas.pydata.org/pandas-docs/stable/user_guide/indexing.html#returning-a-view-versus-a-copy\n",
      "  df_rt_imdb['Runtime'] = df_rt_imdb['Runtime'].astype(int)\n",
      "/tmp/ipykernel_44/3534495771.py:4: SettingWithCopyWarning: \n",
      "A value is trying to be set on a copy of a slice from a DataFrame.\n",
      "Try using .loc[row_indexer,col_indexer] = value instead\n",
      "\n",
      "See the caveats in the documentation: https://pandas.pydata.org/pandas-docs/stable/user_guide/indexing.html#returning-a-view-versus-a-copy\n",
      "  df_rt_imdb['IMDB_Rating'] = df_rt_imdb['IMDB_Rating'].astype(float)\n"
     ]
    },
    {
     "data": {
      "text/html": [
       "<div>\n",
       "<style scoped>\n",
       "    .dataframe tbody tr th:only-of-type {\n",
       "        vertical-align: middle;\n",
       "    }\n",
       "\n",
       "    .dataframe tbody tr th {\n",
       "        vertical-align: top;\n",
       "    }\n",
       "\n",
       "    .dataframe thead th {\n",
       "        text-align: right;\n",
       "    }\n",
       "</style>\n",
       "<table border=\"1\" class=\"dataframe\">\n",
       "  <thead>\n",
       "    <tr style=\"text-align: right;\">\n",
       "      <th></th>\n",
       "      <th>Runtime</th>\n",
       "      <th>IMDB_Rating</th>\n",
       "    </tr>\n",
       "  </thead>\n",
       "  <tbody>\n",
       "    <tr>\n",
       "      <th>Runtime</th>\n",
       "      <td>1.00</td>\n",
       "      <td>0.24</td>\n",
       "    </tr>\n",
       "    <tr>\n",
       "      <th>IMDB_Rating</th>\n",
       "      <td>0.24</td>\n",
       "      <td>1.00</td>\n",
       "    </tr>\n",
       "  </tbody>\n",
       "</table>\n",
       "</div>"
      ],
      "text/plain": [
       "             Runtime  IMDB_Rating\n",
       "Runtime         1.00         0.24\n",
       "IMDB_Rating     0.24         1.00"
      ]
     },
     "execution_count": 453,
     "metadata": {},
     "output_type": "execute_result"
    }
   ],
   "source": [
    "df_rt_imdb = data_df[['Runtime', 'IMDB_Rating']]\n",
    "df_rt_imdb['Runtime'] = df_rt_imdb['Runtime'].map(lambda x: x.rstrip(' min'))\n",
    "df_rt_imdb['Runtime'] = df_rt_imdb['Runtime'].astype(int)\n",
    "df_rt_imdb['IMDB_Rating'] = df_rt_imdb['IMDB_Rating'].astype(float)\n",
    "correlation = df_rt_imdb.corr()\n",
    "correlation"
   ]
  },
  {
   "cell_type": "code",
   "execution_count": 454,
   "id": "ec629f5e",
   "metadata": {},
   "outputs": [
    {
     "data": {
      "image/png": "[encoded data removed]",
      "text/plain": [
       "<Figure size 432x288 with 2 Axes>"
      ]
     },
     "metadata": {
      "needs_background": "light"
     },
     "output_type": "display_data"
    }
   ],
   "source": [
    "sns.heatmap(correlation);"
   ]
  },
  {
   "cell_type": "markdown",
   "id": "6ddf6718",
   "metadata": {},
   "source": [
    "*The chart and this visualization show that there is no real correlation between runtime and IMBD rating since the correlation coefficient is 0.24 (and in the visualization it is black, indicating the correlation coefficient is around 0.3).  This also makes sense later on as we see that runtime of a movie does not neccessarily mean it will recieve a good or bad rating.*"
   ]
  },
  {
   "cell_type": "markdown",
   "id": "9c453f12",
   "metadata": {},
   "source": [
    "# **3.**\n",
    "**Do any directors appear more than once? If so who appears most often?**"
   ]
  },
  {
   "cell_type": "code",
   "execution_count": 455,
   "id": "48d60c16",
   "metadata": {},
   "outputs": [
    {
     "name": "stdout",
     "output_type": "stream",
     "text": [
      "There are  548  different directors\n"
     ]
    }
   ],
   "source": [
    "director_uni = data_df['Director'].nunique()\n",
    "print(\"There are \", director_uni, \" different directors\")"
   ]
  },
  {
   "cell_type": "code",
   "execution_count": 456,
   "id": "5dcf996a",
   "metadata": {},
   "outputs": [],
   "source": [
    "data_df['Movie_Count'] = 1\n",
    "\n",
    "director_stats = data_df[['Director', 'Movie_Count']].groupby(['Director']).sum()\n",
    "data_df['IMDB_Rating'] = data_df['IMDB_Rating'].astype(float)\n",
    "director_stats['IMDB_Rating'] = data_df[['Director','IMDB_Rating']].groupby(['Director']).mean()\n",
    "director_stats = director_stats.rename(columns={\"IMDB_Rating\" : \"avg IMDB_Rating\"})\n",
    "\n",
    "data_df['No_of_Votes'] = data_df['No_of_Votes'].astype(float)\n",
    "director_stats['No_of_Votes'] = data_df[['Director','No_of_Votes']].groupby(['Director']).mean()\n",
    "\n",
    "director_stats = director_stats.rename(columns={\"No_of_Votes\" : \"avg No_of_Votes\"})\n",
    "pd.options.display.float_format = \"{:,.2f}\".format"
   ]
  },
  {
   "cell_type": "code",
   "execution_count": 457,
   "id": "9232194d",
   "metadata": {},
   "outputs": [
    {
     "name": "stdout",
     "output_type": "stream",
     "text": [
      "Top 10 Directors by Number of Movies:\n"
     ]
    },
    {
     "data": {
      "text/html": [
       "<div>\n",
       "<style scoped>\n",
       "    .dataframe tbody tr th:only-of-type {\n",
       "        vertical-align: middle;\n",
       "    }\n",
       "\n",
       "    .dataframe tbody tr th {\n",
       "        vertical-align: top;\n",
       "    }\n",
       "\n",
       "    .dataframe thead th {\n",
       "        text-align: right;\n",
       "    }\n",
       "</style>\n",
       "<table border=\"1\" class=\"dataframe\">\n",
       "  <thead>\n",
       "    <tr style=\"text-align: right;\">\n",
       "      <th></th>\n",
       "      <th>Movie_Count</th>\n",
       "      <th>avg IMDB_Rating</th>\n",
       "      <th>avg No_of_Votes</th>\n",
       "    </tr>\n",
       "    <tr>\n",
       "      <th>Director</th>\n",
       "      <th></th>\n",
       "      <th></th>\n",
       "      <th></th>\n",
       "    </tr>\n",
       "  </thead>\n",
       "  <tbody>\n",
       "    <tr>\n",
       "      <th>Alfred Hitchcock</th>\n",
       "      <td>14</td>\n",
       "      <td>8.01</td>\n",
       "      <td>192,612.64</td>\n",
       "    </tr>\n",
       "    <tr>\n",
       "      <th>Steven Spielberg</th>\n",
       "      <td>13</td>\n",
       "      <td>8.03</td>\n",
       "      <td>601,320.46</td>\n",
       "    </tr>\n",
       "    <tr>\n",
       "      <th>Hayao Miyazaki</th>\n",
       "      <td>11</td>\n",
       "      <td>8.02</td>\n",
       "      <td>213,519.82</td>\n",
       "    </tr>\n",
       "    <tr>\n",
       "      <th>Martin Scorsese</th>\n",
       "      <td>10</td>\n",
       "      <td>8.17</td>\n",
       "      <td>651,353.00</td>\n",
       "    </tr>\n",
       "    <tr>\n",
       "      <th>Akira Kurosawa</th>\n",
       "      <td>10</td>\n",
       "      <td>8.22</td>\n",
       "      <td>94,159.90</td>\n",
       "    </tr>\n",
       "    <tr>\n",
       "      <th>Stanley Kubrick</th>\n",
       "      <td>9</td>\n",
       "      <td>8.23</td>\n",
       "      <td>435,472.67</td>\n",
       "    </tr>\n",
       "    <tr>\n",
       "      <th>Woody Allen</th>\n",
       "      <td>9</td>\n",
       "      <td>7.79</td>\n",
       "      <td>135,834.22</td>\n",
       "    </tr>\n",
       "    <tr>\n",
       "      <th>Billy Wilder</th>\n",
       "      <td>9</td>\n",
       "      <td>8.14</td>\n",
       "      <td>115,322.56</td>\n",
       "    </tr>\n",
       "    <tr>\n",
       "      <th>Quentin Tarantino</th>\n",
       "      <td>8</td>\n",
       "      <td>8.18</td>\n",
       "      <td>1,015,401.00</td>\n",
       "    </tr>\n",
       "    <tr>\n",
       "      <th>Christopher Nolan</th>\n",
       "      <td>8</td>\n",
       "      <td>8.46</td>\n",
       "      <td>1,447,293.12</td>\n",
       "    </tr>\n",
       "  </tbody>\n",
       "</table>\n",
       "</div>"
      ],
      "text/plain": [
       "                   Movie_Count  avg IMDB_Rating  avg No_of_Votes\n",
       "Director                                                        \n",
       "Alfred Hitchcock            14             8.01       192,612.64\n",
       "Steven Spielberg            13             8.03       601,320.46\n",
       "Hayao Miyazaki              11             8.02       213,519.82\n",
       "Martin Scorsese             10             8.17       651,353.00\n",
       "Akira Kurosawa              10             8.22        94,159.90\n",
       "Stanley Kubrick              9             8.23       435,472.67\n",
       "Woody Allen                  9             7.79       135,834.22\n",
       "Billy Wilder                 9             8.14       115,322.56\n",
       "Quentin Tarantino            8             8.18     1,015,401.00\n",
       "Christopher Nolan            8             8.46     1,447,293.12"
      ]
     },
     "execution_count": 457,
     "metadata": {},
     "output_type": "execute_result"
    }
   ],
   "source": [
    "#There are directors who appear more than once \n",
    "#Top 10 Directors by Number of Movies in the list\n",
    "print(\"Top 10 Directors by Number of Movies:\")\n",
    "director_stats = director_stats.sort_values(by=['Movie_Count'], ascending=False)\n",
    "director_stats.head(10)"
   ]
  },
  {
   "cell_type": "markdown",
   "id": "2c31dca3",
   "metadata": {},
   "source": [
    "# **4.**\n",
    "**What is the average meta score rating per genre? What are the top three?**"
   ]
  },
  {
   "cell_type": "code",
   "execution_count": 458,
   "id": "a35c246f",
   "metadata": {},
   "outputs": [
    {
     "name": "stdout",
     "output_type": "stream",
     "text": [
      "Average Meta Scores (by genre):\n",
      "Drama       77.18\n",
      "Crime       74.44\n",
      "Action      73.79\n",
      "Biography   76.43\n",
      "Western     81.06\n",
      "Comedy      77.44\n",
      "Adventure   77.88\n",
      "Animation   81.84\n",
      "Horror      77.28\n",
      "Mystery     77.21\n",
      "Film-Noir   91.83\n",
      "Fantasy     76.00\n",
      "Family      77.23\n",
      "Thriller    76.01\n",
      "dtype: float64\n",
      "\n",
      "Top 3 Meta Score (by genre):\n",
      "Film-Noir   91.83\n",
      "Animation   81.84\n",
      "Western     81.06\n",
      "dtype: float64\n"
     ]
    }
   ],
   "source": [
    "data_df2 = data_df\n",
    "data_df2.replace(\"\", np.nan, inplace=True)\n",
    "data_df2 = data_df2.dropna()\n",
    "\n",
    "def get_metascore_by_genre(genre):\n",
    "    return data_df2['Meta_score'][data_df2['Genre'].str.contains(genre, regex=False)].astype(int)\n",
    "\n",
    "metascore_by_genre = pd.DataFrame(index=range(len(data_df)),columns=range(len(genres)))\n",
    "metascore_by_genre.columns = genres\n",
    "\n",
    "for i in genres:\n",
    "    metascore_by_genre[i] = get_metascore_by_genre(i)\n",
    "\n",
    "avg_metascore_by_genre = metascore_by_genre.mean(axis = 0, skipna = True)\n",
    "\n",
    "print('Average Meta Scores (by genre):')\n",
    "print(avg_metascore_by_genre.round(3))\n",
    "print('\\nTop 3 Meta Score (by genre):\\n'+str(avg_metascore_by_genre.sort_values(ascending = False).round(3)[:3]))"
   ]
  },
  {
   "cell_type": "markdown",
   "id": "91db1be3",
   "metadata": {},
   "source": [
    "# **5.**\n",
    "**What year has the highest meta score? (using the avg meta score per year)**"
   ]
  },
  {
   "cell_type": "code",
   "execution_count": 459,
   "id": "eeda4036",
   "metadata": {},
   "outputs": [],
   "source": [
    "data_df6 = pd.DataFrame(data)\n",
    "data_df6.replace(\"\", np.nan, inplace=True)\n",
    "data_df6 = data_df6.dropna()\n",
    "data_df6['Movie_Count'] = 1\n",
    "\n",
    "ms_stats = data_df6[['Released_Year', 'Movie_Count']].groupby(['Released_Year']).sum()\n",
    "data_df6['Meta_score'] = data_df6['Meta_score'].astype(float)\n",
    "ms_stats['Meta_score'] = data_df6[['Released_Year','Meta_score']].groupby(['Released_Year']).mean()\n",
    "ms_stats = ms_stats.rename(columns={\"Meta_score\" : \"avg Meta_score\"})"
   ]
  },
  {
   "cell_type": "code",
   "execution_count": 460,
   "id": "321daa8c",
   "metadata": {},
   "outputs": [
    {
     "name": "stdout",
     "output_type": "stream",
     "text": [
      "Top 15 years by average Meta Score:\n"
     ]
    },
    {
     "data": {
      "text/html": [
       "<div>\n",
       "<style scoped>\n",
       "    .dataframe tbody tr th:only-of-type {\n",
       "        vertical-align: middle;\n",
       "    }\n",
       "\n",
       "    .dataframe tbody tr th {\n",
       "        vertical-align: top;\n",
       "    }\n",
       "\n",
       "    .dataframe thead th {\n",
       "        text-align: right;\n",
       "    }\n",
       "</style>\n",
       "<table border=\"1\" class=\"dataframe\">\n",
       "  <thead>\n",
       "    <tr style=\"text-align: right;\">\n",
       "      <th></th>\n",
       "      <th>Movie_Count</th>\n",
       "      <th>avg Meta_score</th>\n",
       "    </tr>\n",
       "    <tr>\n",
       "      <th>Released_Year</th>\n",
       "      <th></th>\n",
       "      <th></th>\n",
       "    </tr>\n",
       "  </thead>\n",
       "  <tbody>\n",
       "    <tr>\n",
       "      <th>1941</th>\n",
       "      <td>1</td>\n",
       "      <td>100.00</td>\n",
       "    </tr>\n",
       "    <tr>\n",
       "      <th>1942</th>\n",
       "      <td>1</td>\n",
       "      <td>100.00</td>\n",
       "    </tr>\n",
       "    <tr>\n",
       "      <th>1931</th>\n",
       "      <td>1</td>\n",
       "      <td>99.00</td>\n",
       "    </tr>\n",
       "    <tr>\n",
       "      <th>1948</th>\n",
       "      <td>1</td>\n",
       "      <td>98.00</td>\n",
       "    </tr>\n",
       "    <tr>\n",
       "      <th>1950</th>\n",
       "      <td>1</td>\n",
       "      <td>98.00</td>\n",
       "    </tr>\n",
       "    <tr>\n",
       "      <th>1938</th>\n",
       "      <td>1</td>\n",
       "      <td>97.00</td>\n",
       "    </tr>\n",
       "    <tr>\n",
       "      <th>1949</th>\n",
       "      <td>1</td>\n",
       "      <td>97.00</td>\n",
       "    </tr>\n",
       "    <tr>\n",
       "      <th>1946</th>\n",
       "      <td>2</td>\n",
       "      <td>96.50</td>\n",
       "    </tr>\n",
       "    <tr>\n",
       "      <th>1936</th>\n",
       "      <td>1</td>\n",
       "      <td>96.00</td>\n",
       "    </tr>\n",
       "    <tr>\n",
       "      <th>1944</th>\n",
       "      <td>1</td>\n",
       "      <td>95.00</td>\n",
       "    </tr>\n",
       "    <tr>\n",
       "      <th>1959</th>\n",
       "      <td>4</td>\n",
       "      <td>94.75</td>\n",
       "    </tr>\n",
       "    <tr>\n",
       "      <th>1958</th>\n",
       "      <td>3</td>\n",
       "      <td>94.33</td>\n",
       "    </tr>\n",
       "    <tr>\n",
       "      <th>1952</th>\n",
       "      <td>2</td>\n",
       "      <td>94.00</td>\n",
       "    </tr>\n",
       "    <tr>\n",
       "      <th>1940</th>\n",
       "      <td>3</td>\n",
       "      <td>92.67</td>\n",
       "    </tr>\n",
       "    <tr>\n",
       "      <th>1957</th>\n",
       "      <td>2</td>\n",
       "      <td>91.50</td>\n",
       "    </tr>\n",
       "  </tbody>\n",
       "</table>\n",
       "</div>"
      ],
      "text/plain": [
       "               Movie_Count  avg Meta_score\n",
       "Released_Year                             \n",
       "1941                     1          100.00\n",
       "1942                     1          100.00\n",
       "1931                     1           99.00\n",
       "1948                     1           98.00\n",
       "1950                     1           98.00\n",
       "1938                     1           97.00\n",
       "1949                     1           97.00\n",
       "1946                     2           96.50\n",
       "1936                     1           96.00\n",
       "1944                     1           95.00\n",
       "1959                     4           94.75\n",
       "1958                     3           94.33\n",
       "1952                     2           94.00\n",
       "1940                     3           92.67\n",
       "1957                     2           91.50"
      ]
     },
     "execution_count": 460,
     "metadata": {},
     "output_type": "execute_result"
    }
   ],
   "source": [
    "#Top 15 years by avg Meta Score\n",
    "print(\"Top 15 years by average Meta Score:\")\n",
    "ms_stats = ms_stats.sort_values(by=['avg Meta_score'], ascending=False)\n",
    "ms_stats.head(15)"
   ]
  },
  {
   "cell_type": "markdown",
   "id": "36fa72b3",
   "metadata": {},
   "source": [
    "*So the highest average Meta Score (100) came in 1941 and 1942 (both the only movies published that year)*"
   ]
  },
  {
   "cell_type": "markdown",
   "id": "05bd4bf1",
   "metadata": {},
   "source": [
    "# **6.**\n",
    "**Runtime per certification?**"
   ]
  },
  {
   "cell_type": "code",
   "execution_count": 461,
   "id": "b35e6974",
   "metadata": {},
   "outputs": [
    {
     "name": "stderr",
     "output_type": "stream",
     "text": [
      "/tmp/ipykernel_44/4145960008.py:2: SettingWithCopyWarning: \n",
      "A value is trying to be set on a copy of a slice from a DataFrame.\n",
      "Try using .loc[row_indexer,col_indexer] = value instead\n",
      "\n",
      "See the caveats in the documentation: https://pandas.pydata.org/pandas-docs/stable/user_guide/indexing.html#returning-a-view-versus-a-copy\n",
      "  cert_stats['Runtime'] = cert_stats['Runtime'].map(lambda x: x.rstrip(' min'))\n",
      "/tmp/ipykernel_44/4145960008.py:3: SettingWithCopyWarning: \n",
      "A value is trying to be set on a copy of a slice from a DataFrame.\n",
      "Try using .loc[row_indexer,col_indexer] = value instead\n",
      "\n",
      "See the caveats in the documentation: https://pandas.pydata.org/pandas-docs/stable/user_guide/indexing.html#returning-a-view-versus-a-copy\n",
      "  cert_stats['Runtime'] = cert_stats['Runtime'].astype(int)\n"
     ]
    },
    {
     "data": {
      "text/html": [
       "<div>\n",
       "<style scoped>\n",
       "    .dataframe tbody tr th:only-of-type {\n",
       "        vertical-align: middle;\n",
       "    }\n",
       "\n",
       "    .dataframe tbody tr th {\n",
       "        vertical-align: top;\n",
       "    }\n",
       "\n",
       "    .dataframe thead th {\n",
       "        text-align: right;\n",
       "    }\n",
       "</style>\n",
       "<table border=\"1\" class=\"dataframe\">\n",
       "  <thead>\n",
       "    <tr style=\"text-align: right;\">\n",
       "      <th></th>\n",
       "      <th>avg Runtime (min)</th>\n",
       "    </tr>\n",
       "    <tr>\n",
       "      <th>Certificate</th>\n",
       "      <th></th>\n",
       "    </tr>\n",
       "  </thead>\n",
       "  <tbody>\n",
       "    <tr>\n",
       "      <th>16</th>\n",
       "      <td>130.00</td>\n",
       "    </tr>\n",
       "    <tr>\n",
       "      <th>A</th>\n",
       "      <td>128.94</td>\n",
       "    </tr>\n",
       "    <tr>\n",
       "      <th>Approved</th>\n",
       "      <td>111.09</td>\n",
       "    </tr>\n",
       "    <tr>\n",
       "      <th>G</th>\n",
       "      <td>119.67</td>\n",
       "    </tr>\n",
       "    <tr>\n",
       "      <th>GP</th>\n",
       "      <td>124.50</td>\n",
       "    </tr>\n",
       "    <tr>\n",
       "      <th>PG</th>\n",
       "      <td>114.27</td>\n",
       "    </tr>\n",
       "    <tr>\n",
       "      <th>PG-13</th>\n",
       "      <td>116.95</td>\n",
       "    </tr>\n",
       "    <tr>\n",
       "      <th>Passed</th>\n",
       "      <td>106.21</td>\n",
       "    </tr>\n",
       "    <tr>\n",
       "      <th>R</th>\n",
       "      <td>122.37</td>\n",
       "    </tr>\n",
       "    <tr>\n",
       "      <th>TV-14</th>\n",
       "      <td>132.00</td>\n",
       "    </tr>\n",
       "    <tr>\n",
       "      <th>TV-MA</th>\n",
       "      <td>106.00</td>\n",
       "    </tr>\n",
       "    <tr>\n",
       "      <th>TV-PG</th>\n",
       "      <td>93.67</td>\n",
       "    </tr>\n",
       "    <tr>\n",
       "      <th>U</th>\n",
       "      <td>124.16</td>\n",
       "    </tr>\n",
       "    <tr>\n",
       "      <th>U/A</th>\n",
       "      <td>102.00</td>\n",
       "    </tr>\n",
       "    <tr>\n",
       "      <th>UA</th>\n",
       "      <td>129.33</td>\n",
       "    </tr>\n",
       "    <tr>\n",
       "      <th>Unrated</th>\n",
       "      <td>183.00</td>\n",
       "    </tr>\n",
       "  </tbody>\n",
       "</table>\n",
       "</div>"
      ],
      "text/plain": [
       "             avg Runtime (min)\n",
       "Certificate                   \n",
       "16                      130.00\n",
       "A                       128.94\n",
       "Approved                111.09\n",
       "G                       119.67\n",
       "GP                      124.50\n",
       "PG                      114.27\n",
       "PG-13                   116.95\n",
       "Passed                  106.21\n",
       "R                       122.37\n",
       "TV-14                   132.00\n",
       "TV-MA                   106.00\n",
       "TV-PG                    93.67\n",
       "U                       124.16\n",
       "U/A                     102.00\n",
       "UA                      129.33\n",
       "Unrated                 183.00"
      ]
     },
     "execution_count": 461,
     "metadata": {},
     "output_type": "execute_result"
    }
   ],
   "source": [
    "cert_stats = data_df[['Certificate', 'Runtime']]\n",
    "cert_stats['Runtime'] = cert_stats['Runtime'].map(lambda x: x.rstrip(' min'))\n",
    "cert_stats['Runtime'] = cert_stats['Runtime'].astype(int)\n",
    "cert_stats = cert_stats[['Certificate', 'Runtime']].groupby(['Certificate']).mean()\n",
    "cert_stats = cert_stats.rename(columns={\"Runtime\" : \"avg Runtime (min)\"})\n",
    "cert_stats"
   ]
  },
  {
   "cell_type": "markdown",
   "id": "5ebba9b2",
   "metadata": {},
   "source": [
    "# **7.** \n",
    "**What is the shortest runtime? What is the longest runtime? Which one has the higher IMDB rating? Which one has the higher meta score?\n",
    "Follow up questions: What is the runtime of the movie with the highest meta score? How does it compare to the highest/lowest runtime movies?**"
   ]
  },
  {
   "cell_type": "code",
   "execution_count": 462,
   "id": "5a825273",
   "metadata": {},
   "outputs": [],
   "source": [
    "data_df4 = pd.DataFrame(data)"
   ]
  },
  {
   "cell_type": "code",
   "execution_count": 463,
   "id": "5ff633b3",
   "metadata": {},
   "outputs": [
    {
     "name": "stderr",
     "output_type": "stream",
     "text": [
      "/tmp/ipykernel_44/1842341354.py:1: FutureWarning: The default value of regex will change from True to False in a future version.\n",
      "  data_df4['Runtime'] = data_df4['Runtime'].str.replace(r'\\D', '') # removing str 'min' from each value\n"
     ]
    }
   ],
   "source": [
    "data_df4['Runtime'] = data_df4['Runtime'].str.replace(r'\\D', '') # removing str 'min' from each value\n",
    "data_df4['Runtime'] = data_df4['Runtime'].astype(int) # converting the str values to ints"
   ]
  },
  {
   "cell_type": "code",
   "execution_count": 464,
   "id": "41b93803",
   "metadata": {},
   "outputs": [
    {
     "name": "stdout",
     "output_type": "stream",
     "text": [
      "The shortest runtime is: 45 minutes\n",
      "The longest runtime is: 321 minutes\n"
     ]
    }
   ],
   "source": [
    "shortest_rt = data_df4['Runtime'].min()\n",
    "print(\"The shortest runtime is: \"+str(shortest_rt)+\" minutes\")\n",
    "longest_rt = data_df4['Runtime'].max()\n",
    "print(\"The longest runtime is: \"+str(longest_rt)+\" minutes\")"
   ]
  },
  {
   "cell_type": "code",
   "execution_count": 465,
   "id": "29b90610",
   "metadata": {},
   "outputs": [
    {
     "name": "stdout",
     "output_type": "stream",
     "text": [
      "Shortest runtime IMDB rating: 8.2\n",
      "Longest runtime IMDB rating: 8.2\n"
     ]
    }
   ],
   "source": [
    "shortest_rt_IMDB_rating = data_df4['IMDB_Rating'][data_df4['Runtime'] == shortest_rt]\n",
    "print(\"Shortest runtime IMDB rating: \"+str(float(shortest_rt_IMDB_rating.values)))\n",
    "longest_rt_IMDB_rating = data_df4['IMDB_Rating'][data_df4['Runtime'] == longest_rt]\n",
    "print(\"Longest runtime IMDB rating: \"+str(float(longest_rt_IMDB_rating.values)))"
   ]
  },
  {
   "cell_type": "code",
   "execution_count": 466,
   "id": "28bafd2f",
   "metadata": {},
   "outputs": [
    {
     "name": "stdout",
     "output_type": "stream",
     "text": [
      "Both movies have the exact same IMDB rating\n",
      "Shortest runtime movie meta score: ['']\n",
      "Shortest runtime movie has no meta score\n",
      "\n",
      "The next shortest runtime is: 64\n"
     ]
    }
   ],
   "source": [
    "# x is the movie with the shorter runtime, y is the movie with the longer runtime\n",
    "def compare_values(x, y):\n",
    "    if x > y:\n",
    "        return \"The movie with the shortest runtime has the higher IMDB rating\"\n",
    "    elif y > x:\n",
    "        return \"The movie with the longest runtime has the higher IMDB rating\"\n",
    "    else:\n",
    "        return \"Both movies have the exact same IMDB rating\"\n",
    "\n",
    "result = compare_values(float(longest_rt_IMDB_rating.values), float(shortest_rt_IMDB_rating.values))\n",
    "print(result)\n",
    "\n",
    "shortest_rt_meta_score = data_df4['Meta_score'][data_df4['Runtime'] == shortest_rt]\n",
    "print(\"Shortest runtime movie meta score: \"+str(shortest_rt_meta_score.values))\n",
    "print(\"Shortest runtime movie has no meta score\\n\")\n",
    "\n",
    "\n",
    "data_df5 = data_df4.drop(labels=194, axis=0)\n",
    "shortest_rt_2 = data_df5['Runtime'].min()\n",
    "print(\"The next shortest runtime is: \"+str(shortest_rt_2))"
   ]
  },
  {
   "cell_type": "code",
   "execution_count": 467,
   "id": "92fbcf7c",
   "metadata": {},
   "outputs": [
    {
     "name": "stdout",
     "output_type": "stream",
     "text": [
      "The next shortest runtime movie meta score: 80.0\n",
      "Longest runtime movie meta score: 89.0\n"
     ]
    }
   ],
   "source": [
    "shortest_rt_meta_score_2 = data_df4['Meta_score'][data_df4['Runtime'] == shortest_rt_2]\n",
    "print(\"The next shortest runtime movie meta score: \"+str(float(shortest_rt_meta_score_2.values)))\n",
    "\n",
    "longest_rt_meta_score = data_df4['Meta_score'][data_df4['Runtime'] == longest_rt]\n",
    "print(\"Longest runtime movie meta score: \"+str(float(longest_rt_meta_score.values)))"
   ]
  },
  {
   "cell_type": "code",
   "execution_count": 468,
   "id": "6de54850",
   "metadata": {},
   "outputs": [
    {
     "name": "stdout",
     "output_type": "stream",
     "text": [
      "The movie with the longest runtime has the higher meta score\n"
     ]
    }
   ],
   "source": [
    "# x is the movie with the shorter runtime, y is the movie with the longer runtime\n",
    "def compare_values_2(x, y):\n",
    "    if x > y:\n",
    "        return \"The movie with the shortest runtime has the higher meta score\"\n",
    "    elif y > x:\n",
    "        return \"The movie with the longest runtime has the higher meta score\"\n",
    "    else:\n",
    "        return \"Both movies have the exact same meta score\"\n",
    "    \n",
    "result_2 = compare_values_2(float(shortest_rt_meta_score_2.values), float(longest_rt_meta_score.values))\n",
    "print(result_2)"
   ]
  },
  {
   "cell_type": "code",
   "execution_count": 469,
   "id": "fe2c8573",
   "metadata": {},
   "outputs": [
    {
     "name": "stdout",
     "output_type": "stream",
     "text": [
      "The average runtime of the movies with the joint highest meta score is: 94.25\n"
     ]
    }
   ],
   "source": [
    "# Follow up questions:\n",
    "# What is the runtime of the movie with the highest meta score?\n",
    "# How does it compare to the highest/lowest runtime movies?\n",
    "highest_ms = data_df4['Meta_score'].max()\n",
    "highest_ms_mov = data_df4[data_df4['Meta_score'] == highest_ms]\n",
    "avg_runtime = highest_ms_mov['Runtime'].mean()\n",
    "print(\"The average runtime of the movies with the joint highest meta score is: \"+str(avg_runtime))"
   ]
  },
  {
   "cell_type": "markdown",
   "id": "9437e24c",
   "metadata": {},
   "source": [
    "# **8.**\n",
    "**Which director has the highest IMDB score? Which director has the highest Meta score?**"
   ]
  },
  {
   "cell_type": "code",
   "execution_count": 470,
   "id": "eed81947",
   "metadata": {},
   "outputs": [
    {
     "name": "stdout",
     "output_type": "stream",
     "text": [
      "Top 10 Directors by average number of votes on IMDb:\n"
     ]
    },
    {
     "data": {
      "text/html": [
       "<div>\n",
       "<style scoped>\n",
       "    .dataframe tbody tr th:only-of-type {\n",
       "        vertical-align: middle;\n",
       "    }\n",
       "\n",
       "    .dataframe tbody tr th {\n",
       "        vertical-align: top;\n",
       "    }\n",
       "\n",
       "    .dataframe thead th {\n",
       "        text-align: right;\n",
       "    }\n",
       "</style>\n",
       "<table border=\"1\" class=\"dataframe\">\n",
       "  <thead>\n",
       "    <tr style=\"text-align: right;\">\n",
       "      <th></th>\n",
       "      <th>Movie_Count</th>\n",
       "      <th>avg IMDB_Rating</th>\n",
       "      <th>avg No_of_Votes</th>\n",
       "    </tr>\n",
       "    <tr>\n",
       "      <th>Director</th>\n",
       "      <th></th>\n",
       "      <th></th>\n",
       "      <th></th>\n",
       "    </tr>\n",
       "  </thead>\n",
       "  <tbody>\n",
       "    <tr>\n",
       "      <th>Frank Darabont</th>\n",
       "      <td>2</td>\n",
       "      <td>8.95</td>\n",
       "      <td>1,745,452.00</td>\n",
       "    </tr>\n",
       "    <tr>\n",
       "      <th>Lana Wachowski</th>\n",
       "      <td>1</td>\n",
       "      <td>8.70</td>\n",
       "      <td>1,676,426.00</td>\n",
       "    </tr>\n",
       "    <tr>\n",
       "      <th>Christopher Nolan</th>\n",
       "      <td>8</td>\n",
       "      <td>8.46</td>\n",
       "      <td>1,447,293.12</td>\n",
       "    </tr>\n",
       "    <tr>\n",
       "      <th>George Lucas</th>\n",
       "      <td>1</td>\n",
       "      <td>8.60</td>\n",
       "      <td>1,231,473.00</td>\n",
       "    </tr>\n",
       "    <tr>\n",
       "      <th>Peter Jackson</th>\n",
       "      <td>5</td>\n",
       "      <td>8.40</td>\n",
       "      <td>1,229,715.80</td>\n",
       "    </tr>\n",
       "    <tr>\n",
       "      <th>Irvin Kershner</th>\n",
       "      <td>1</td>\n",
       "      <td>8.70</td>\n",
       "      <td>1,159,315.00</td>\n",
       "    </tr>\n",
       "    <tr>\n",
       "      <th>James McTeigue</th>\n",
       "      <td>1</td>\n",
       "      <td>8.20</td>\n",
       "      <td>1,032,749.00</td>\n",
       "    </tr>\n",
       "    <tr>\n",
       "      <th>Quentin Tarantino</th>\n",
       "      <td>8</td>\n",
       "      <td>8.18</td>\n",
       "      <td>1,015,401.00</td>\n",
       "    </tr>\n",
       "    <tr>\n",
       "      <th>Gore Verbinski</th>\n",
       "      <td>1</td>\n",
       "      <td>8.00</td>\n",
       "      <td>1,015,122.00</td>\n",
       "    </tr>\n",
       "    <tr>\n",
       "      <th>Andrew Stanton</th>\n",
       "      <td>2</td>\n",
       "      <td>8.25</td>\n",
       "      <td>974,677.50</td>\n",
       "    </tr>\n",
       "  </tbody>\n",
       "</table>\n",
       "</div>"
      ],
      "text/plain": [
       "                   Movie_Count  avg IMDB_Rating  avg No_of_Votes\n",
       "Director                                                        \n",
       "Frank Darabont               2             8.95     1,745,452.00\n",
       "Lana Wachowski               1             8.70     1,676,426.00\n",
       "Christopher Nolan            8             8.46     1,447,293.12\n",
       "George Lucas                 1             8.60     1,231,473.00\n",
       "Peter Jackson                5             8.40     1,229,715.80\n",
       "Irvin Kershner               1             8.70     1,159,315.00\n",
       "James McTeigue               1             8.20     1,032,749.00\n",
       "Quentin Tarantino            8             8.18     1,015,401.00\n",
       "Gore Verbinski               1             8.00     1,015,122.00\n",
       "Andrew Stanton               2             8.25       974,677.50"
      ]
     },
     "execution_count": 470,
     "metadata": {},
     "output_type": "execute_result"
    }
   ],
   "source": [
    "#Top 10 Directors by No of Votes on IMDB\n",
    "print(\"Top 10 Directors by average number of votes on IMDb:\")\n",
    "director_stats = director_stats.sort_values(by=['avg No_of_Votes'], ascending=False)\n",
    "director_stats.head(10)"
   ]
  },
  {
   "cell_type": "code",
   "execution_count": 471,
   "id": "aa6a9c86",
   "metadata": {},
   "outputs": [
    {
     "data": {
      "text/html": [
       "<div>\n",
       "<style scoped>\n",
       "    .dataframe tbody tr th:only-of-type {\n",
       "        vertical-align: middle;\n",
       "    }\n",
       "\n",
       "    .dataframe tbody tr th {\n",
       "        vertical-align: top;\n",
       "    }\n",
       "\n",
       "    .dataframe thead th {\n",
       "        text-align: right;\n",
       "    }\n",
       "</style>\n",
       "<table border=\"1\" class=\"dataframe\">\n",
       "  <thead>\n",
       "    <tr style=\"text-align: right;\">\n",
       "      <th></th>\n",
       "      <th>Poster_Link</th>\n",
       "      <th>Series_Title</th>\n",
       "      <th>Released_Year</th>\n",
       "      <th>Certificate</th>\n",
       "      <th>Runtime</th>\n",
       "      <th>Genre</th>\n",
       "      <th>IMDB_Rating</th>\n",
       "      <th>Overview</th>\n",
       "      <th>Meta_score</th>\n",
       "      <th>Director</th>\n",
       "      <th>Star1</th>\n",
       "      <th>Star2</th>\n",
       "      <th>Star3</th>\n",
       "      <th>Star4</th>\n",
       "      <th>No_of_Votes</th>\n",
       "      <th>Gross</th>\n",
       "      <th>Movie_Count</th>\n",
       "    </tr>\n",
       "  </thead>\n",
       "  <tbody>\n",
       "    <tr>\n",
       "      <th>0</th>\n",
       "      <td>https://m.media-amazon.com/images/M/MV5BMDFkYT...</td>\n",
       "      <td>The Shawshank Redemption</td>\n",
       "      <td>1994</td>\n",
       "      <td>A</td>\n",
       "      <td>142 min</td>\n",
       "      <td>Drama</td>\n",
       "      <td>9.30</td>\n",
       "      <td>Two imprisoned men bond over a number of years...</td>\n",
       "      <td>80</td>\n",
       "      <td>Frank Darabont</td>\n",
       "      <td>Tim Robbins</td>\n",
       "      <td>Morgan Freeman</td>\n",
       "      <td>Bob Gunton</td>\n",
       "      <td>William Sadler</td>\n",
       "      <td>2,343,110.00</td>\n",
       "      <td>28,341,469</td>\n",
       "      <td>1</td>\n",
       "    </tr>\n",
       "    <tr>\n",
       "      <th>25</th>\n",
       "      <td>https://m.media-amazon.com/images/M/MV5BMTUxMz...</td>\n",
       "      <td>The Green Mile</td>\n",
       "      <td>1999</td>\n",
       "      <td>A</td>\n",
       "      <td>189 min</td>\n",
       "      <td>Crime, Drama, Fantasy</td>\n",
       "      <td>8.60</td>\n",
       "      <td>The lives of guards on Death Row are affected ...</td>\n",
       "      <td>61</td>\n",
       "      <td>Frank Darabont</td>\n",
       "      <td>Tom Hanks</td>\n",
       "      <td>Michael Clarke Duncan</td>\n",
       "      <td>David Morse</td>\n",
       "      <td>Bonnie Hunt</td>\n",
       "      <td>1,147,794.00</td>\n",
       "      <td>136,801,374</td>\n",
       "      <td>1</td>\n",
       "    </tr>\n",
       "  </tbody>\n",
       "</table>\n",
       "</div>"
      ],
      "text/plain": [
       "                                          Poster_Link  \\\n",
       "0   https://m.media-amazon.com/images/M/MV5BMDFkYT...   \n",
       "25  https://m.media-amazon.com/images/M/MV5BMTUxMz...   \n",
       "\n",
       "                Series_Title Released_Year Certificate  Runtime  \\\n",
       "0   The Shawshank Redemption          1994           A  142 min   \n",
       "25            The Green Mile          1999           A  189 min   \n",
       "\n",
       "                    Genre  IMDB_Rating  \\\n",
       "0                   Drama         9.30   \n",
       "25  Crime, Drama, Fantasy         8.60   \n",
       "\n",
       "                                             Overview Meta_score  \\\n",
       "0   Two imprisoned men bond over a number of years...         80   \n",
       "25  The lives of guards on Death Row are affected ...         61   \n",
       "\n",
       "          Director        Star1                  Star2        Star3  \\\n",
       "0   Frank Darabont  Tim Robbins         Morgan Freeman   Bob Gunton   \n",
       "25  Frank Darabont    Tom Hanks  Michael Clarke Duncan  David Morse   \n",
       "\n",
       "             Star4  No_of_Votes        Gross  Movie_Count  \n",
       "0   William Sadler 2,343,110.00   28,341,469            1  \n",
       "25     Bonnie Hunt 1,147,794.00  136,801,374            1  "
      ]
     },
     "execution_count": 471,
     "metadata": {},
     "output_type": "execute_result"
    }
   ],
   "source": [
    "#Find movies directed by Darabont\n",
    "Darabont = data_df.loc[data_df['Director'].str.contains(\"Frank Darabont\")]\n",
    "Darabont"
   ]
  },
  {
   "cell_type": "code",
   "execution_count": 472,
   "id": "0c5dd903",
   "metadata": {},
   "outputs": [],
   "source": [
    "data_df.replace(\"\", np.nan, inplace=True)\n",
    "data_df = data_df.dropna()\n",
    "data_df['Meta_score'] = data_df['Meta_score'].astype(int)\n",
    "director_stats['Meta_score'] = data_df[['Director','Meta_score']].groupby(['Director']).mean()\n",
    "director_stats = director_stats.rename(columns={\"Meta_score\" : \"avg Meta_score\"})"
   ]
  },
  {
   "cell_type": "code",
   "execution_count": 473,
   "id": "66f53d62",
   "metadata": {},
   "outputs": [
    {
     "name": "stdout",
     "output_type": "stream",
     "text": [
      "Top 10 Directors by average Meta Score:\n",
      "\n"
     ]
    },
    {
     "data": {
      "text/html": [
       "<div>\n",
       "<style scoped>\n",
       "    .dataframe tbody tr th:only-of-type {\n",
       "        vertical-align: middle;\n",
       "    }\n",
       "\n",
       "    .dataframe tbody tr th {\n",
       "        vertical-align: top;\n",
       "    }\n",
       "\n",
       "    .dataframe thead th {\n",
       "        text-align: right;\n",
       "    }\n",
       "</style>\n",
       "<table border=\"1\" class=\"dataframe\">\n",
       "  <thead>\n",
       "    <tr style=\"text-align: right;\">\n",
       "      <th></th>\n",
       "      <th>Movie_Count</th>\n",
       "      <th>avg IMDB_Rating</th>\n",
       "      <th>avg No_of_Votes</th>\n",
       "      <th>avg Meta_score</th>\n",
       "    </tr>\n",
       "    <tr>\n",
       "      <th>Director</th>\n",
       "      <th></th>\n",
       "      <th></th>\n",
       "      <th></th>\n",
       "      <th></th>\n",
       "    </tr>\n",
       "  </thead>\n",
       "  <tbody>\n",
       "    <tr>\n",
       "      <th>Ingmar Bergman</th>\n",
       "      <td>7</td>\n",
       "      <td>8.14</td>\n",
       "      <td>72,296.14</td>\n",
       "      <td>100.00</td>\n",
       "    </tr>\n",
       "    <tr>\n",
       "      <th>Orson Welles</th>\n",
       "      <td>2</td>\n",
       "      <td>8.15</td>\n",
       "      <td>250,891.00</td>\n",
       "      <td>99.50</td>\n",
       "    </tr>\n",
       "    <tr>\n",
       "      <th>Michael Curtiz</th>\n",
       "      <td>2</td>\n",
       "      <td>8.20</td>\n",
       "      <td>284,634.00</td>\n",
       "      <td>98.50</td>\n",
       "    </tr>\n",
       "    <tr>\n",
       "      <th>Guillermo del Toro</th>\n",
       "      <td>1</td>\n",
       "      <td>8.20</td>\n",
       "      <td>618,623.00</td>\n",
       "      <td>98.00</td>\n",
       "    </tr>\n",
       "    <tr>\n",
       "      <th>Joseph L. Mankiewicz</th>\n",
       "      <td>2</td>\n",
       "      <td>8.10</td>\n",
       "      <td>82,643.50</td>\n",
       "      <td>98.00</td>\n",
       "    </tr>\n",
       "    <tr>\n",
       "      <th>Charles Chaplin</th>\n",
       "      <td>6</td>\n",
       "      <td>8.33</td>\n",
       "      <td>138,907.00</td>\n",
       "      <td>97.50</td>\n",
       "    </tr>\n",
       "    <tr>\n",
       "      <th>Akira Kurosawa</th>\n",
       "      <td>10</td>\n",
       "      <td>8.22</td>\n",
       "      <td>94,159.90</td>\n",
       "      <td>97.00</td>\n",
       "    </tr>\n",
       "    <tr>\n",
       "      <th>Sam Peckinpah</th>\n",
       "      <td>1</td>\n",
       "      <td>7.90</td>\n",
       "      <td>77,401.00</td>\n",
       "      <td>97.00</td>\n",
       "    </tr>\n",
       "    <tr>\n",
       "      <th>Carol Reed</th>\n",
       "      <td>1</td>\n",
       "      <td>8.10</td>\n",
       "      <td>158,731.00</td>\n",
       "      <td>97.00</td>\n",
       "    </tr>\n",
       "    <tr>\n",
       "      <th>Steve McQueen</th>\n",
       "      <td>1</td>\n",
       "      <td>8.10</td>\n",
       "      <td>640,533.00</td>\n",
       "      <td>96.00</td>\n",
       "    </tr>\n",
       "  </tbody>\n",
       "</table>\n",
       "</div>"
      ],
      "text/plain": [
       "                      Movie_Count  avg IMDB_Rating  avg No_of_Votes  \\\n",
       "Director                                                              \n",
       "Ingmar Bergman                  7             8.14        72,296.14   \n",
       "Orson Welles                    2             8.15       250,891.00   \n",
       "Michael Curtiz                  2             8.20       284,634.00   \n",
       "Guillermo del Toro              1             8.20       618,623.00   \n",
       "Joseph L. Mankiewicz            2             8.10        82,643.50   \n",
       "Charles Chaplin                 6             8.33       138,907.00   \n",
       "Akira Kurosawa                 10             8.22        94,159.90   \n",
       "Sam Peckinpah                   1             7.90        77,401.00   \n",
       "Carol Reed                      1             8.10       158,731.00   \n",
       "Steve McQueen                   1             8.10       640,533.00   \n",
       "\n",
       "                      avg Meta_score  \n",
       "Director                              \n",
       "Ingmar Bergman                100.00  \n",
       "Orson Welles                   99.50  \n",
       "Michael Curtiz                 98.50  \n",
       "Guillermo del Toro             98.00  \n",
       "Joseph L. Mankiewicz           98.00  \n",
       "Charles Chaplin                97.50  \n",
       "Akira Kurosawa                 97.00  \n",
       "Sam Peckinpah                  97.00  \n",
       "Carol Reed                     97.00  \n",
       "Steve McQueen                  96.00  "
      ]
     },
     "execution_count": 473,
     "metadata": {},
     "output_type": "execute_result"
    }
   ],
   "source": [
    "#Top 10 Directors by average Meta Score\n",
    "print(\"Top 10 Directors by average Meta Score:\\n\")\n",
    "director_stats = director_stats.sort_values(by=['avg Meta_score'], ascending=False)\n",
    "director_stats.head(10)"
   ]
  }
 ],
 "metadata": {
  "kernelspec": {
   "display_name": "Python 3 (ipykernel)",
   "language": "python",
   "name": "python3"
  },
  "language_info": {
   "codemirror_mode": {
    "name": "ipython",
    "version": 3
   },
   "file_extension": ".py",
   "mimetype": "text/x-python",
   "name": "python",
   "nbconvert_exporter": "python",
   "pygments_lexer": "ipython3",
   "version": "3.8.12"
  }
 },
 "nbformat": 4,
 "nbformat_minor": 5
}
