{
 "cells": [
  {
   "cell_type": "markdown",
   "id": "a6741824",
   "metadata": {},
   "source": [
    "CSCI2000U final project group 9:\n",
    "    Paul Hrunda, Garrett Kawabata, Anthony Liscio"
   ]
  },
  {
   "cell_type": "code",
   "execution_count": 9,
   "id": "7098e23b",
   "metadata": {},
   "outputs": [],
   "source": [
    "import csv\n",
    "import numpy as np\n",
    "import pandas as pd\n",
    "\n",
    "def get_data_csv():\n",
    "    collection = []\n",
    "    with open('imdb_top_1000.csv', 'r') as f:\n",
    "        for line in csv.DictReader(f):\n",
    "            collection.append(line)\n",
    "        return collection\n",
    "        \n",
    "# the data    \n",
    "data = get_data_csv()"
   ]
  },
  {
   "cell_type": "markdown",
   "id": "e6608c1f",
   "metadata": {},
   "source": [
    "# **1.**\n",
    "**What is the average IMDB rating per genre? What are the top three?**"
   ]
  },
  {
   "cell_type": "markdown",
   "id": "b8f7460c",
   "metadata": {},
   "source": [
    "# **2.**\n",
    "**Does the runtime correlate to the IMDB rating?**"
   ]
  },
  {
   "cell_type": "markdown",
   "id": "80b60a59",
   "metadata": {},
   "source": [
    "# **3.**\n",
    "**Do any directors appear more than once? If so who appears most often?**"
   ]
  },
  {
   "cell_type": "markdown",
   "id": "90be5bed",
   "metadata": {},
   "source": [
    "# **4.**\n",
    "**What is the average meta score rating per genre? What are the top five?**"
   ]
  },
  {
   "cell_type": "markdown",
   "id": "7a265b23",
   "metadata": {},
   "source": [
    "# **5.**\n",
    "**What year has the highest meta score?**"
   ]
  },
  {
   "cell_type": "markdown",
   "id": "416e549d",
   "metadata": {},
   "source": [
    "# **6.**\n",
    "**Runtime per certification?**"
   ]
  },
  {
   "cell_type": "markdown",
   "id": "79365109",
   "metadata": {},
   "source": [
    "# **7.** \n",
    "**What is the shortest runtime? What is the longest runtime? Which one has the higher IMDB rating? Which one has the higher meta score?\n",
    "Follow up questions: What is the runtime of the movie with the highest meta score? How does it compare to the highest/lowest runtime movies?**"
   ]
  },
  {
   "cell_type": "code",
   "execution_count": 10,
   "id": "d6b6863a",
   "metadata": {},
   "outputs": [
    {
     "name": "stderr",
     "output_type": "stream",
     "text": [
      "/tmp/ipykernel_44/3963164550.py:2: FutureWarning: The default value of regex will change from True to False in a future version.\n",
      "  data_df['Runtime'] = data_df['Runtime'].str.replace(r'\\D', '') # removing str 'min' from each value\n"
     ]
    }
   ],
   "source": [
    "data_df = pd.DataFrame(data)\n",
    "data_df['Runtime'] = data_df['Runtime'].str.replace(r'\\D', '') # removing str 'min' from each value\n",
    "data_df['Runtime'] = data_df['Runtime'].astype(int) # converting the str values to ints"
   ]
  },
  {
   "cell_type": "code",
   "execution_count": 11,
   "id": "55170194",
   "metadata": {},
   "outputs": [
    {
     "name": "stdout",
     "output_type": "stream",
     "text": [
      "The shortest runtime is: 45 minutes\n",
      "The longest runtime is: 321 minutes\n"
     ]
    }
   ],
   "source": [
    "shortest_rt = data_df['Runtime'].min()\n",
    "print(\"The shortest runtime is: \"+str(shortest_rt)+\" minutes\")\n",
    "longest_rt = data_df['Runtime'].max()\n",
    "print(\"The longest runtime is: \"+str(longest_rt)+\" minutes\")"
   ]
  },
  {
   "cell_type": "code",
   "execution_count": 12,
   "id": "a2711063",
   "metadata": {},
   "outputs": [
    {
     "name": "stdout",
     "output_type": "stream",
     "text": [
      "Shortest runtime IMDB rating: 8.2\n",
      "Longest runtime IMDB rating: 8.2\n"
     ]
    }
   ],
   "source": [
    "shortest_rt_IMDB_rating = data_df['IMDB_Rating'][data_df['Runtime'] == shortest_rt]\n",
    "print(\"Shortest runtime IMDB rating: \"+str(float(shortest_rt_IMDB_rating.values)))\n",
    "longest_rt_IMDB_rating = data_df['IMDB_Rating'][data_df['Runtime'] == longest_rt]\n",
    "print(\"Longest runtime IMDB rating: \"+str(float(longest_rt_IMDB_rating.values)))"
   ]
  },
  {
   "cell_type": "code",
   "execution_count": 13,
   "id": "593a3cc5",
   "metadata": {},
   "outputs": [
    {
     "name": "stdout",
     "output_type": "stream",
     "text": [
      "Both movies have the exact same IMDB rating\n",
      "Shortest runtime movie meta score: ['']\n",
      "Shortest runtime movie has no meta score\n",
      "\n",
      "The next shortest runtime is: 64\n"
     ]
    }
   ],
   "source": [
    "# x is the movie with the shorter runtime, y is the movie with the longer runtime\n",
    "def compare_values(x, y):\n",
    "    if x > y:\n",
    "        return \"The movie with the shortest runtime has the higher IMDB rating\"\n",
    "    elif y > x:\n",
    "        return \"The movie with the longest runtime has the higher IMDB rating\"\n",
    "    else:\n",
    "        return \"Both movies have the exact same IMDB rating\"\n",
    "\n",
    "result = compare_values(float(longest_rt_IMDB_rating.values), float(shortest_rt_IMDB_rating.values))\n",
    "print(result)\n",
    "\n",
    "shortest_rt_meta_score = data_df['Meta_score'][data_df['Runtime'] == shortest_rt]\n",
    "print(\"Shortest runtime movie meta score: \"+str(shortest_rt_meta_score.values))\n",
    "print(\"Shortest runtime movie has no meta score\\n\")\n",
    "\n",
    "\n",
    "data_df2 = data_df.drop(labels=194, axis=0)\n",
    "shortest_rt_2 = data_df2['Runtime'].min()\n",
    "print(\"The next shortest runtime is: \"+str(shortest_rt_2))"
   ]
  },
  {
   "cell_type": "code",
   "execution_count": 14,
   "id": "32678340",
   "metadata": {},
   "outputs": [
    {
     "name": "stdout",
     "output_type": "stream",
     "text": [
      "The next shortest runtime movie meta score: 80.0\n",
      "Longest runtime movie meta score: 89.0\n"
     ]
    }
   ],
   "source": [
    "shortest_rt_meta_score_2 = data_df['Meta_score'][data_df['Runtime'] == shortest_rt_2]\n",
    "print(\"The next shortest runtime movie meta score: \"+str(float(shortest_rt_meta_score_2.values)))\n",
    "\n",
    "longest_rt_meta_score = data_df['Meta_score'][data_df['Runtime'] == longest_rt]\n",
    "print(\"Longest runtime movie meta score: \"+str(float(longest_rt_meta_score.values)))"
   ]
  },
  {
   "cell_type": "code",
   "execution_count": 15,
   "id": "6cce7749",
   "metadata": {},
   "outputs": [
    {
     "name": "stdout",
     "output_type": "stream",
     "text": [
      "The movie with the longest runtime has the higher meta score\n"
     ]
    }
   ],
   "source": [
    "# x is the movie with the shorter runtime, y is the movie with the longer runtime\n",
    "def compare_values_2(x, y):\n",
    "    if x > y:\n",
    "        return \"The movie with the shortest runtime has the higher meta score\"\n",
    "    elif y > x:\n",
    "        return \"The movie with the longest runtime has the higher meta score\"\n",
    "    else:\n",
    "        return \"Both movies have the exact same meta score\"\n",
    "    \n",
    "result_2 = compare_values_2(float(shortest_rt_meta_score_2.values), float(longest_rt_meta_score.values))\n",
    "print(result_2)"
   ]
  },
  {
   "cell_type": "code",
   "execution_count": 16,
   "id": "7484daa3",
   "metadata": {},
   "outputs": [
    {
     "name": "stdout",
     "output_type": "stream",
     "text": [
      "The average runtime of the movies with the joint highest meta score is: 94.25\n"
     ]
    }
   ],
   "source": [
    "# Follow up questions:\n",
    "# What is the runtime of the movie with the highest meta score?\n",
    "# How does it compare to the highest/lowest runtime movies?\n",
    "highest_ms = data_df['Meta_score'].max()\n",
    "highest_ms_mov = data_df[data_df['Meta_score'] == highest_ms]\n",
    "avg_runtime = highest_ms_mov['Runtime'].mean()\n",
    "print(\"The average runtime of the movies with the joint highest meta score is: \"+str(avg_runtime))"
   ]
  },
  {
   "cell_type": "markdown",
   "id": "61b44645",
   "metadata": {},
   "source": [
    "# **8.**\n",
    "**Which director has the highest IMDB score? Which director has the highest Meta score?**"
   ]
  },
  {
   "cell_type": "code",
   "execution_count": null,
   "id": "eb654364",
   "metadata": {},
   "outputs": [],
   "source": []
  }
 ],
 "metadata": {
  "kernelspec": {
   "display_name": "Python 3 (ipykernel)",
   "language": "python",
   "name": "python3"
  }, 
  "language_info": {
   "codemirror_mode": {
    "name": "ipython",
    "version": 3
   },
   "file_extension": ".py",
   "mimetype": "text/x-python",
   "name": "python",
   "nbconvert_exporter": "python",
   "pygments_lexer": "ipython3",
   "version": "3.8.12"
  }
 },
 "nbformat": 4,
 "nbformat_minor": 5
}
